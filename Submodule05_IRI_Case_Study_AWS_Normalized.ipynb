{
 "cells": [
  {
   "cell_type": "markdown",
   "id": "ad3a8f10",
   "metadata": {},
   "source": [
    "<img src=\"images/RIINBRE-Logo.jpg\" width=\"400\" height=\"400\"><img src=\"images/MIC_Logo.png\" width=\"600\" height=\"600\">"
   ]
  },
  {
   "cell_type": "markdown",
   "id": "189f9398",
   "metadata": {
    "tags": []
   },
   "source": [
    "# Principles of Biomarker Discovery\n",
    "## Submodule 5: Rat Renal Ischemia Reperfusion Injury Case Study\n",
    "### Dr. Christopher L. Hemme\n",
    "### Director, [RI-INBRE Molecular Informatics Core](https://web.uri.edu/riinbre/mic/)\n",
    "### The University of Rhode Island College of Pharmacy\n",
    "Last Updated: March 17, 2022"
   ]
  },
  {
   "cell_type": "markdown",
   "id": "e34855a8",
   "metadata": {
    "tags": []
   },
   "source": [
    "---"
   ]
  },
  {
   "cell_type": "markdown",
   "id": "36e0f5ff",
   "metadata": {},
   "source": [
    "## Introduction"
   ]
  },
  {
   "cell_type": "markdown",
   "id": "4fb80899",
   "metadata": {
    "tags": []
   },
   "source": [
    "For this module, we will use as our case study a rat renal ischemia and reperfusion injury (IRI) model that consists of established metabolic biomarkers commonly used in clinical studies and proteomic data generated for the study.  This data for this module is provided by Dr. Nisanne Ghonem, Department of Biomedical and Pharmaceutical Sciences, College of Pharmacy, University of Rhode Island.  In this chapter we will explore the rat renal IRI model and load our initial data into a custom experimental object (in our case, an R list) which we will then use in later chapters for analysis."
   ]
  },
  {
   "cell_type": "markdown",
   "id": "6d0808de",
   "metadata": {},
   "source": [
    "<div class=\"alert alert-block alert-warning\">\n",
    "<b>&#127891; Note:</b> Used for interesting asides or notes.\n",
    "</div>"
   ]
  },
  {
   "cell_type": "markdown",
   "id": "ea2409ef",
   "metadata": {},
   "source": [
    "<div class=\"alert alert-block alert-success\">\n",
    "<b>&#9997; Reference:</b> This box indicates a reference for an attached figure or table.\n",
    "</div>"
   ]
  },
  {
   "cell_type": "markdown",
   "id": "2286f80a",
   "metadata": {},
   "source": [
    "<div class=\"alert alert-block alert-danger\">\n",
    "<b>&#128721; Caution:</b> A red box indicates potential hazards or pitfalls you may encounter.\n",
    "</div>"
   ]
  },
  {
   "cell_type": "markdown",
   "id": "51a10bab",
   "metadata": {},
   "source": [
    "---"
   ]
  },
  {
   "cell_type": "markdown",
   "id": "fbb15748",
   "metadata": {
    "tags": []
   },
   "source": [
    "## Rat Renal IRI Model"
   ]
  },
  {
   "cell_type": "markdown",
   "id": "3f086642",
   "metadata": {},
   "source": [
    "### Background"
   ]
  },
  {
   "cell_type": "markdown",
   "id": "b0a30171",
   "metadata": {
    "tags": []
   },
   "source": [
    "The kidney is a remarkable organ that carries out a variety of functions in vertebrates.  The primary functions of the kidney is to regulate various bodily fluids, to maintain electrolyte balance in the blood, and to filter toxins out of the blood.  For this reason, blood tests are commonly used to quickly and easily assay the functions of the kidneys and the liver.  Several serum biomarkers have been identified to indicate liver or kidney damage.  For kidney injury, two common serum biomarkers are serum creatinine (SCr) and blood urea nitrogen (BUN).  In healthy individuals, concentrations of SCr and BUN are 0.4-0.6 mg/dL and 8-18 mg/dL, respectively.  SCr concentrations >1 mg/dL are generally considered indicative of kidney dysfunction.  While these biomarkers are indicative of kidney injury, they alone do not indicate the type of injury that has occurred.  For this reason, there is an interest in identifying additional biomarkers that may be more precise in identifying disease progression and which may be more strongly correlated to specific types of kidney injuries or diseases."
   ]
  },
  {
   "cell_type": "markdown",
   "id": "af3682ea",
   "metadata": {
    "tags": []
   },
   "source": [
    "<img src=\"images/Kidney_Disease.png\" width=\"600\" height=\"600\">"
   ]
  },
  {
   "cell_type": "markdown",
   "id": "513fe848",
   "metadata": {},
   "source": [
    "<div class=\"alert alert-block alert-success\">\n",
    "<b>&#9997; Reference:</b> Creatinine (<a href=\"https://pubchem.ncbi.nlm.nih.gov/compound/588\">PubChem CID:588</a>)<br>\n",
    "Created in <a href=\"https://biorender.com/\">BioRender</a>"
   ]
  },
  {
   "cell_type": "markdown",
   "id": "5453c737",
   "metadata": {},
   "source": [
    "### Renal Ischemia Reperfusion Injury (IRI) and Its Role in Acute Kidney Injury (AKI)"
   ]
  },
  {
   "cell_type": "markdown",
   "id": "92614174",
   "metadata": {},
   "source": [
    "Over time, kidneys can lose the ability to filter toxins from the blood.  This damage can be caused by a variety of factors, including chronic hypertension, e.g., high blood pressure, diabetes, and several kidney-specific diseases.  When the kidney has lost 90% of its function, the patient is said to be in end-stage renal disease and requires dialysis support to remove toxins from the blood.  At this point, kidney transplantation from a healthy donor is the only way to restore normal kidney function.  However, kidney transplantation itself puts great stress on the donor kidney.  In addition to the risks of rejection by the host immune system, a kidney from a healthy donor is temporarily removed from the supply of oxygenated blood (ischemia).  When the kidney graft is reattached in the new host, the sudden flow of oxygenated blood (reperfusion) can cause inflammation and oxidative stress to the transplanted organ, leading to acute kidney injury (AKI).  The inflammatory cascade in AKI can include increases in neutrophil and leukocyte activation and increased concentrations of reactive oxygen species, pro-inflammatory cytokines, and chemokines.  Severe cases of AKI can lead to mitochondrial dysfunction, apoptosis (programmed cell death), or total organ failure.  "
   ]
  },
  {
   "cell_type": "markdown",
   "id": "2470ca26",
   "metadata": {},
   "source": [
    "<img src=\"images/Renal_IRI.png\" width=\"600\" height=\"600\"><br>"
   ]
  },
  {
   "cell_type": "markdown",
   "id": "a9fce3e1",
   "metadata": {},
   "source": [
    "<div class=\"alert alert-block alert-success\">\n",
    "<b>&#9997; Reference:</b> Created in <a href=\"https://biorender.com/\">BioRender</a>"
   ]
  },
  {
   "cell_type": "markdown",
   "id": "a28145f5",
   "metadata": {},
   "source": [
    "In healthy cells, mitochondria produce the majority of ATP using oxidative phosphorylation employ a variety of quality control functions to ensure a stable number of healthy mitochondria and adequate energy reserves.  While we often think of mitochondria as individual, isolated organelles, they actually form a complex network regulated through biogenesis (new organelles), fission (organelle division) and fusion (organelle combination).  This allows mitochondria to share resources, ensure a stable number of healthy mitochondria, and remove damaged mitochondria.  During ischaemia, ATP stores are depleted, resulting a variety of effects.  Mitochondrial network balance is disrupted as the lack of ATP inhibits mitochondria biogenesis, and the balance in the mitochondrial network shifts to fission resulting in fragmentation of the network which can impair kidney repair.  This in turn leads to mitochondrial outer membrane permeabilization (MOMP) which allows release of cytochrome c into the cytosol.  This, coupled with disruption of Na<sup>2</sup> gradients and increased concentrations of reactive oxygen species (ROS), triggers damage to the mitochondria and apoptosis (programmed cell death) of the renal cell. "
   ]
  },
  {
   "cell_type": "markdown",
   "id": "92b2919d",
   "metadata": {},
   "source": [
    "<img src=\"images/Mitochondria.png\" width=\"600\" height=\"600\">"
   ]
  },
  {
   "cell_type": "markdown",
   "id": "59203320",
   "metadata": {},
   "source": [
    "<div class=\"alert alert-block alert-success\">\n",
    "<b>&#9997; Reference:</b> Created in <a href=\"https://biorender.com/\">BioRender</a>"
   ]
  },
  {
   "cell_type": "markdown",
   "id": "fe17b492",
   "metadata": {},
   "source": [
    "### Drug Repurposing: Treprostinil as a Possible Therapy for Renal IRI"
   ]
  },
  {
   "cell_type": "markdown",
   "id": "2152eab5",
   "metadata": {},
   "source": [
    "At this time, there is no approved pharmacological treatment for renal IRI.  The development of new drugs is an expensive and arduous process, and gaining regulatory approval adds more time and expense to the process.  For this reason, many researchers search for currently available drugs which have been FDA approved for use and which can be repurposed to treat conditions for which they weren't originally designed.\n",
    "\n",
    "Prostacyclin (PGI<sub>2</sub>) is a member of the prostaglandin family and is a potent vasodilator.  PGI<sub>2</sub> increases blood flow during renal failure, preserves intrarenal oxygenation during AKI, reduces pro-inflammatory cytokines and adhesion molecules during AKI, and inhibits AKI-induced proximal tubular cell apoptosis.  For this reason, PGI<sub>2</sub> analogs have been tested as possible therapeutic treatments for reducing renal IRI.  One such drug, treprostinil (Remodulin®), is FDA approved, chemically stable at room temperature, and has an increased potency and longer elimination half-life than other commercially available PGI<sub>2</sub> analogs."
   ]
  },
  {
   "cell_type": "markdown",
   "id": "cbc5c873",
   "metadata": {},
   "source": [
    "<img src=\"images/prosticyclin_treprostinil.png\" width=\"500\" height=\"500\">"
   ]
  },
  {
   "cell_type": "markdown",
   "id": "bd18562b",
   "metadata": {},
   "source": [
    "In this chapter, we will utilize rat renal IRI data generated by Dr. Ghonem's laboratory, which explores the use of treprostinil as a therapeutic agent for treatment of renal IRI.  The data includes the quantitative biomarkers SCr and BUN, which are well-established biomarkers for kidney injury, and will also use proteomic data to identify potential biomarkers in the kidney cells themselves.  We will use a variety of methods to compare the biomarkers including exploratory analysis (PCA, clustering, heatmaps, etc.), linear and logistic regression, and machine learning.  "
   ]
  },
  {
   "cell_type": "markdown",
   "id": "d9e15b06",
   "metadata": {},
   "source": [
    "<div class=\"alert alert-block alert-success\">\n",
    "<b>&#9997; Reference:</b> Creatinine (<a href=\"https://pubchem.ncbi.nlm.nih.gov/compound/588\">PubChem CID:588</a>)<br>\n",
    "Created in <a href=\"https://biorender.com/\">BioRender</a>"
   ]
  },
  {
   "cell_type": "markdown",
   "id": "d1fbf924",
   "metadata": {},
   "source": [
    "---"
   ]
  },
  {
   "cell_type": "markdown",
   "id": "dba797a6",
   "metadata": {
    "tags": []
   },
   "source": [
    "## Creating an Experimental Object"
   ]
  },
  {
   "cell_type": "markdown",
   "id": "0c416237",
   "metadata": {},
   "source": [
    "### What is an Experimental Object?"
   ]
  },
  {
   "cell_type": "markdown",
   "id": "45e831f9",
   "metadata": {},
   "source": [
    "A scientific experiment includes a variety of different types of data, which may include:\n",
    "<ul>\n",
    "    <li>Generated experimental data</li>\n",
    "    <li>Normalized or batch corrected data</li>\n",
    "    <li>Metadata (also called phenotypic data) about the experiment</li>\n",
    "    <li>Experimental protocols (e.g. instrumentation used to generate the data, dates data was generated, etc.)</li>\n",
    "    <li>Results of analyses (e.g. regression tables, etc.)</li>\n",
    "    <li>Plots, graphs, and other visualizations</li>\n",
    "</ul>\n",
    "\n",
    "When working with related data, it is good practice to collect the data into a single data structure that we will call an experimental object.  By collecting our experimental data into an experimental object, we ensure that it's in a consistently formatted data structure and that multiple experimental objects can be analyzed in the same way (such as in an automated pipeline) which minimizes human error.  You can even go one step further and collect related experimental objects into a project-type data structure (similar to the NCBI BioProjects concept).  BioConductor offers custom data structures such as the <i>SummarizedExperiment</i> object, which is designed for omics-style data.  On its most basic level though, an experimental object is just a simple list.  Using a list allows us to customize how our experimental object is organized.  For example, we might want a simple experimental list that only contains the raw data and metadata, or we might want a complex list that holds all of the experimental output of our analyses.  As with all lists, it is up to you to remember how the data is organized."
   ]
  },
  {
   "cell_type": "markdown",
   "id": "56ebdbde",
   "metadata": {},
   "source": [
    "<div class=\"alert alert-block alert-warning\">\n",
    "<b>&#127891; Note:</b> For those of you who are programmers, our experimental object is not strictly speaking an object as you would use in object-oriented programming, but it's conceptually the same idea in that we're trying to gather related data into a single collection.  There's no reason, though, why you couldn't modify the experimental object into a true OOP-style object. \n",
    "</div>"
   ]
  },
  {
   "cell_type": "markdown",
   "id": "ebda7a49",
   "metadata": {},
   "source": [
    "We'll begin by loading some required packages.  *tidyverse* is a series of packages built around the idea of tidy data and is often used in data science to complement or replace base R.  *magittr* is a package that implements piping functionality, that is, it allows functions to be chained together such that the output for one operation becomes the input for a second.  This greatly simplifies many operations in R such as data transformation."
   ]
  },
  {
   "cell_type": "code",
   "execution_count": null,
   "id": "8c0e02e7",
   "metadata": {},
   "outputs": [],
   "source": [
    "packages <- c(\"tidyverse\", \"magrittr\")\n",
    "installed_packages <- packages %in% rownames(installed.packages())\n",
    "if (any(installed_packages == FALSE)) {install.packages(packages[!installed_packages])}"
   ]
  },
  {
   "cell_type": "code",
   "execution_count": null,
   "id": "300fe23b",
   "metadata": {},
   "outputs": [],
   "source": [
    "require(\"tidyverse\")\n",
    "require(\"magrittr\")"
   ]
  },
  {
   "cell_type": "markdown",
   "id": "90d5ba62",
   "metadata": {},
   "source": [
    "Let's create a structure for our list that we can later populate with data.  You can examine the structure of any R data type using the <i>str</i> function."
   ]
  },
  {
   "cell_type": "code",
   "execution_count": null,
   "id": "40f0c7b9",
   "metadata": {},
   "outputs": [],
   "source": [
    "# Build empty experimental object list\n",
    "exp_obj <- list(\n",
    "    data = list(\n",
    "        biomarkers = NA,\n",
    "        proteomics = list(\n",
    "            log2 = NA,\n",
    "            norm = NA\n",
    "        )\n",
    "    ),\n",
    "    metadata = NA\n",
    ")\n",
    "# Examine the structure of the list\n",
    "str(exp_obj)"
   ]
  },
  {
   "cell_type": "markdown",
   "id": "10cf6db4",
   "metadata": {},
   "source": [
    "Now we'll start loading data.  First, we will load data for two continuous variable biomarkers, serum creatinine (SCr) and blood urea nitrogen (BUN).  Second, we will load the experiment metadata."
   ]
  },
  {
   "cell_type": "code",
   "execution_count": null,
   "id": "0631a00f",
   "metadata": {},
   "outputs": [],
   "source": [
    "# Load biomarker data\n",
    "\n",
    "# Download data directory from storage bucket\n",
    "system(\"aws s3 cp --recursive s3://nigms-sandbox/nosi-uri/data .\")\n",
    "\n",
    "exp_obj$data$biomarkers <- read_csv(\"data/Renal_IRI_Proteomics/IRI_Biomarkers.csv\", show_col_types=FALSE)\n",
    "# Load metadata and convert covariate columns to factors\n",
    "exp_obj$metadata <- read_csv(\"data/Renal_IRI_Proteomics/metadata.csv\", col_types=\"cfff\")\n",
    "# Reset levels for the Treatment covariate\n",
    "exp_obj$metadata$Treatment <- factor(exp_obj$metadata$Treatment, levels=c('CTRL', 'SHAM', 'PLB', 'TRE'))\n",
    "str(exp_obj)"
   ]
  },
  {
   "cell_type": "markdown",
   "id": "a06f3dfa",
   "metadata": {},
   "source": [
    "<div class=\"alert alert-block alert-info\">\n",
    "    <b>&#9995; Tip:</b> <i>read_csv</i> is the <i>readr</i> version of the base R <i>read.csv</i> function.  <i>read_csv</i> reads comma separated data into a tibble and tries to predict the column data types.  In our case, most of our columns will be covariates in regression models and will need to be assigned as factors, so we manually do that with the <i>col_types</i> argument (\"cfff\" means \"character factor factor factor\" for our four columns).</div>"
   ]
  },
  {
   "cell_type": "markdown",
   "id": "aad77eea",
   "metadata": {},
   "source": [
    "Next we will load the proteomics data so that we can save it for later.  R can be picky about how columns are named, so to avoid any issues, we will load sample names that will keep R happy.  We will also remove some of the extra columns from our data frame so that we only have the <b>Genes</b> and sample columns."
   ]
  },
  {
   "cell_type": "code",
   "execution_count": null,
   "id": "6c4201a5",
   "metadata": {},
   "outputs": [],
   "source": [
    "prot_df <- read_csv(\"data/Renal_IRI_Proteomics/IRI_Proteomics_2019.csv\", show_col_types=FALSE)\n",
    "sample_names <- readRDS(file = \"data/Renal_IRI_Proteomics/IRI_sample_names.rds\")\n",
    "prot_df <- prot_df[, c(\"Genes\", sample_names)]\n",
    "prot_df <- prot_df %>%\n",
    "   mutate(across(all_of(sample_names), as.numeric))\n",
    "prot_df"
   ]
  },
  {
   "cell_type": "markdown",
   "id": "ac972393",
   "metadata": {},
   "source": [
    "Not every row will contain useful information.  Missing data is always a problem, so we will remove low information rows using a custom function created for this analysis called <i>filtered_matrix</i>.  The function will take our original matrix, a cutoff value (between 0 and 100, in our case 80) and our id column (<b>Genes</b>) and will return a matrix with rows removed that contain more than 80% missing data.  In this way, we can set the stringency of our filtering using a single function."
   ]
  },
  {
   "cell_type": "code",
   "execution_count": null,
   "id": "64dceca9",
   "metadata": {},
   "outputs": [],
   "source": [
    "filtered_matrix <- function(data_df, data_cols, cutoff, id_col) {\n",
    "    \n",
    "  data_matrix <- function(data_df, id_col) {\n",
    "    data_mat <- as.matrix(data_df[-1])\n",
    "    rownames(data_mat) <- data_df[, id_col][[1]]\n",
    "    data_mat\n",
    "  }\n",
    "    \n",
    "  data_df[data_df == 0] <- NA\n",
    "  filtered_rows <- 100*rowSums(is.na(data_df[, data_cols]))/length(data_cols) > cutoff\n",
    "  data_mat <- data_matrix(data_df[!filtered_rows,], id_col)\n",
    "  data_mat\n",
    "}"
   ]
  },
  {
   "cell_type": "markdown",
   "id": "e2ac2300",
   "metadata": {},
   "source": [
    "Finally, we will log2 transform the data.  Log transformation is common for proteomics and metabolomics data because the concentrations of individual features (e.g. proteins) can vary across a wide range and often don't follow a normal distribution.  We will perform additional normalization of the data in the proteomics chapters."
   ]
  },
  {
   "cell_type": "code",
   "execution_count": null,
   "id": "a56bb533",
   "metadata": {},
   "outputs": [],
   "source": [
    "prot_mat <- filtered_matrix(prot_df, sample_names, 80, \"Genes\")\n",
    "prot_mat <- log2(prot_mat)\n",
    "prot_mat"
   ]
  },
  {
   "cell_type": "markdown",
   "id": "318841dd",
   "metadata": {},
   "source": [
    "Let's store our log2 transformed data and take one last look at our final experimental object one more time before we finish."
   ]
  },
  {
   "cell_type": "code",
   "execution_count": null,
   "id": "3e0caf31",
   "metadata": {},
   "outputs": [],
   "source": [
    "exp_obj$data$proteomics$log2 <- prot_mat\n",
    "str(exp_obj)"
   ]
  },
  {
   "cell_type": "markdown",
   "id": "4db41c10",
   "metadata": {},
   "source": [
    "---"
   ]
  },
  {
   "cell_type": "markdown",
   "id": "e07cfa46",
   "metadata": {},
   "source": [
    "Now let's save our experimental object as a file so that we can load it in later chapters."
   ]
  },
  {
   "cell_type": "code",
   "execution_count": null,
   "id": "e58fc114",
   "metadata": {},
   "outputs": [],
   "source": [
    "system(\"mkdir ./data/Saved_Data\")\n",
    "saveRDS(exp_obj, file = \"data/Saved_Data/exp_obj.rds\")"
   ]
  },
  {
   "cell_type": "markdown",
   "id": "22919f44",
   "metadata": {},
   "source": [
    "---"
   ]
  },
  {
   "cell_type": "markdown",
   "id": "f8f7c894",
   "metadata": {
    "tags": []
   },
   "source": [
    "<p><span style=\"font-size: 30px\"><b>Quizzes</b></span> <span style=\"float : inline;\">(run the command below to display the quizzes)</span> </p>"
   ]
  },
  {
   "cell_type": "code",
   "execution_count": null,
   "id": "74c3d293",
   "metadata": {},
   "outputs": [],
   "source": [
    "IRdisplay::display_html('<iframe src=\"quizes/Chapter5_Quizes.html\" width=100% height=450></iframe>')"
   ]
  },
  {
   "cell_type": "markdown",
   "id": "60e49b55",
   "metadata": {},
   "source": [
    "## References"
   ]
  },
  {
   "cell_type": "markdown",
   "id": "13026f86",
   "metadata": {},
   "source": [
    "[Shiva N, Sharma N, Kulkarni YA, Mulay SR, Gaikwad AB. Renal ischemia/reperfusion injury: An insight on in vitro and in vivo models. Life Sci. 2020 Sep 1;256:117860. doi: 10.1016/j.lfs.2020.117860. Epub 2020 Jun 11. PMID: 32534037.][shiva]<br>\n",
    "[Hou J, Tolbert E, Birkenbach M, Ghonem NS. Treprostinil alleviates hepatic mitochondrial injury during rat renal ischemia-reperfusion injury. Biomed Pharmacother. 2021 Nov;143:112172. doi: 10.1016/j.biopha.2021.112172. Epub 2021 Sep 21. PMID: 34560548; PMCID: PMC8550798.][hou]<br>\n",
    "[Ding M, Tolbert E, Birkenbach M, Gohh R, Akhlaghi F, Ghonem NS. Treprostinil reduces mitochondrial injury during rat renal ischemia-reperfusion injury. Biomed Pharmacother. 2021 Sep;141:111912. doi: 10.1016/j.biopha.2021.111912. Epub 2021 Jul 15. PMID: 34328097; PMCID: PMC8429269.][ding]<br>\n",
    "[Mayo Clinic Kidney Transplant FAQs][mayo]<br>\n",
    "[Malek M, Nematbakhsh M. Renal ischemia/reperfusion injury; from pathophysiology to treatment. J Renal Inj Prev. 2015 Jun 1;4(2):20-7. doi: 10.12861/jrip.2015.06. PMID: 26060833; PMCID: PMC4459724.][malek]<br>\n",
    "[Tang C, Cai J, Yin XM, Weinberg JM, Venkatachalam MA, Dong Z. Mitochondrial quality control in kidney injury and repair. Nat Rev Nephrol. 2021 May;17(5):299-318. doi: 10.1038/s41581-020-00369-0. Epub 2020 Nov 24. PMID: 33235391; PMCID: PMC8958893.][tang]\n",
    "\n",
    "[ding]: https://pubmed.ncbi.nlm.nih.gov/34328097/ \"Ding M, Tolbert E, Birkenbach M, Gohh R, Akhlaghi F, Ghonem NS. Treprostinil reduces mitochondrial injury during rat renal ischemia-reperfusion injury. Biomed Pharmacother. 2021 Sep;141:111912. doi: 10.1016/j.biopha.2021.111912. Epub 2021 Jul 15. PMID: 34328097; PMCID: PMC8429269.\"\n",
    "[hou]: https://pubmed.ncbi.nlm.nih.gov/34560548/ \"Hou J, Tolbert E, Birkenbach M, Ghonem NS. Treprostinil alleviates hepatic mitochondrial injury during rat renal ischemia-reperfusion injury. Biomed Pharmacother. 2021 Nov;143:112172. doi: 10.1016/j.biopha.2021.112172. Epub 2021 Sep 21. PMID: 34560548; PMCID: PMC8550798.\"\n",
    "[shiva]: https://pubmed.ncbi.nlm.nih.gov/32534037/ \"Shiva N, Sharma N, Kulkarni YA, Mulay SR, Gaikwad AB. Renal ischemia/reperfusion injury: An insight on in vitro and in vivo models. Life Sci. 2020 Sep 1;256:117860. doi: 10.1016/j.lfs.2020.117860. Epub 2020 Jun 11. PMID: 32534037.\"\n",
    "[mayo]: https://www.mayoclinic.org/tests-procedures/kidney-transplant/about/pac-20384777 \"Mayo Clinic Kidney Transplant FAQs\"\n",
    "[malek]: https://www.ncbi.nlm.nih.gov/pmc/articles/PMC4459724/ \"Malek M, Nematbakhsh M. Renal ischemia/reperfusion injury; from pathophysiology to treatment. J Renal Inj Prev. 2015 Jun 1;4(2):20-7. doi: 10.12861/jrip.2015.06. PMID: 26060833; PMCID: PMC4459724.\"\n",
    "[tang]: https://pubmed.ncbi.nlm.nih.gov/33235391/ \"Tang C, Cai J, Yin XM, Weinberg JM, Venkatachalam MA, Dong Z. Mitochondrial quality control in kidney injury and repair. Nat Rev Nephrol. 2021 May;17(5):299-318. doi: 10.1038/s41581-020-00369-0. Epub 2020 Nov 24. PMID: 33235391; PMCID: PMC8958893.\""
   ]
  },
  {
   "cell_type": "markdown",
   "id": "25e56c0d",
   "metadata": {},
   "source": [
    "---"
   ]
  },
  {
   "cell_type": "code",
   "execution_count": null,
   "id": "2e39ab5d",
   "metadata": {},
   "outputs": [],
   "source": [
    "sessionInfo()"
   ]
  }
 ],
 "metadata": {
  "environment": {
   "kernel": "ir",
   "name": "r-cpu.4-2.m105",
   "type": "gcloud",
   "uri": "gcr.io/deeplearning-platform-release/r-cpu.4-2:m105"
  },
  "kernelspec": {
   "display_name": "Python 3 (ipykernel)",
   "language": "python",
   "name": "python3"
  },
  "language_info": {
   "codemirror_mode": {
    "name": "ipython",
    "version": 3
   },
   "file_extension": ".py",
   "mimetype": "text/x-python",
   "name": "python",
   "nbconvert_exporter": "python",
   "pygments_lexer": "ipython3",
   "version": "3.12.7"
  }
 },
 "nbformat": 4,
 "nbformat_minor": 5
}
