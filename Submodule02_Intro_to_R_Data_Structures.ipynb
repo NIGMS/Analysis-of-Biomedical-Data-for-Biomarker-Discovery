{
 "cells": [
  {
   "cell_type": "markdown",
   "id": "f63519ce-ca5a-4f64-93a5-c5491b58d46b",
   "metadata": {},
   "source": [
    "<img src=\"images/RIINBRE-Logo.jpg\" width=\"400\" height=\"400\"><img src=\"images/MIC_Logo.png\" width=\"600\" height=\"600\">"
   ]
  },
  {
   "cell_type": "markdown",
   "id": "fc55d591-83ea-4db3-9c26-23831e09008b",
   "metadata": {},
   "source": [
    "# Analysis of Biomedical Data for Biomarker Discovery\n",
    "## Submodule 2: Introduction to R Data Structures\n",
    "### Dr. Christopher L. Hemme\n",
    "### Director, [RI-INBRE Molecular Informatics Core](https://web.uri.edu/riinbre/mic/)\n",
    "### The University of Rhode Island College of Pharmacy\n",
    "Last Updated: March 22, 2023"
   ]
  },
  {
   "cell_type": "markdown",
   "id": "4ca07ca3-7e42-42aa-ac12-36f85cd8cd4a",
   "metadata": {},
   "source": [
    "---"
   ]
  },
  {
   "cell_type": "markdown",
   "id": "9fad852c-746f-4665-80ad-bf34dc68798d",
   "metadata": {},
   "source": [
    "## Introduction"
   ]
  },
  {
   "cell_type": "markdown",
   "id": "1d4d3359-c8b3-4936-8165-c27aa52c7ec8",
   "metadata": {},
   "source": [
    "Before we begin working with data, we need to discuss some fundamental topics relevant to data processing and analysis.  We will start with a discussion on common data structures in R.  These data structures will be important for building our experimental object and for regression analysis.  This is not intended to be a comprehensive review of R.  If you are already familiar with R, you can skip to Chapter 3: Linear Models."
   ]
  },
  {
   "cell_type": "markdown",
   "id": "3440e627-8984-4f92-9637-41bd479222c0",
   "metadata": {},
   "source": [
    "<div class=\"alert alert-block alert-info\">\n",
    "<b>&#9995; Tip:</b> Blue boxes will indicate helpful tips.</div>"
   ]
  },
  {
   "cell_type": "markdown",
   "id": "de503954-faa3-4caf-a187-ade2d6ac46c7",
   "metadata": {},
   "source": [
    "<div class=\"alert alert-block alert-warning\">\n",
    "<b>&#127891; Note:</b> Used for interesting asides or notes.\n",
    "</div>"
   ]
  },
  {
   "cell_type": "markdown",
   "id": "d37299fd-ac17-44b8-8af3-64ab55d55559",
   "metadata": {},
   "source": [
    "<div class=\"alert alert-block alert-success\">\n",
    "<b>&#9997; Reference:</b> This box indicates a reference for an attached figure or table.\n",
    "</div>"
   ]
  },
  {
   "cell_type": "markdown",
   "id": "59fff243-9787-4690-8924-ecf71b2c7fa9",
   "metadata": {},
   "source": [
    "<div class=\"alert alert-block alert-danger\">\n",
    "<b>&#128721; Caution:</b> A red box indicates potential hazards or pitfalls you may encounter.\n",
    "</div>"
   ]
  },
  {
   "cell_type": "markdown",
   "id": "b1a533d6-5fa4-48f2-bae3-23220b03d75f",
   "metadata": {},
   "source": [
    "---"
   ]
  },
  {
   "cell_type": "markdown",
   "id": "0f13e0f2-9e3e-4fad-b1bb-e435f01c779b",
   "metadata": {},
   "source": [
    "## Data Structures in R"
   ]
  },
  {
   "cell_type": "markdown",
   "id": "1d7410fd-445d-4411-8b90-6cf91e0527c8",
   "metadata": {},
   "source": [
    "When working with data in R, we need to know two things: what type of data are we working with, and what data structure should be used?  Data types in R include **numeric** (floating point numbers), **integer**, **character** (text), and **logical** (TRUE/FALSE).  There are several ways to determine the type of your data.  The first is with the *class* function:"
   ]
  },
  {
   "cell_type": "code",
   "execution_count": 1,
   "id": "97a3f878-e477-4db1-99ee-0031edd6ba1b",
   "metadata": {},
   "outputs": [
    {
     "data": {
      "text/html": [
       "<style>\n",
       ".list-inline {list-style: none; margin:0; padding: 0}\n",
       ".list-inline>li {display: inline-block}\n",
       ".list-inline>li:not(:last-child)::after {content: \"\\00b7\"; padding: 0 .5ex}\n",
       "</style>\n",
       "<ol class=list-inline><li>1</li><li>2</li><li>3</li><li>4</li><li>5</li><li>6</li><li>7</li><li>8</li><li>9</li><li>10</li></ol>\n"
      ],
      "text/latex": [
       "\\begin{enumerate*}\n",
       "\\item 1\n",
       "\\item 2\n",
       "\\item 3\n",
       "\\item 4\n",
       "\\item 5\n",
       "\\item 6\n",
       "\\item 7\n",
       "\\item 8\n",
       "\\item 9\n",
       "\\item 10\n",
       "\\end{enumerate*}\n"
      ],
      "text/markdown": [
       "1. 1\n",
       "2. 2\n",
       "3. 3\n",
       "4. 4\n",
       "5. 5\n",
       "6. 6\n",
       "7. 7\n",
       "8. 8\n",
       "9. 9\n",
       "10. 10\n",
       "\n",
       "\n"
      ],
      "text/plain": [
       " [1]  1  2  3  4  5  6  7  8  9 10"
      ]
     },
     "metadata": {},
     "output_type": "display_data"
    },
    {
     "data": {
      "text/html": [
       "'integer'"
      ],
      "text/latex": [
       "'integer'"
      ],
      "text/markdown": [
       "'integer'"
      ],
      "text/plain": [
       "[1] \"integer\""
      ]
     },
     "metadata": {},
     "output_type": "display_data"
    }
   ],
   "source": [
    "vec <- c(1:10)\n",
    "vec\n",
    "class(vec)"
   ]
  },
  {
   "cell_type": "markdown",
   "id": "1725d2eb-f04d-4b3e-8a8b-5e92bb90f5c2",
   "metadata": {},
   "source": [
    "Here we create a vector of integers from 1 to 10 (we'll discuss what a vector is in a moment).  The __*class*__ function tells us that this data is of type **integer**.\n",
    "\n",
    "A second way to determine the data type is with the __*str*__ function:"
   ]
  },
  {
   "cell_type": "code",
   "execution_count": 2,
   "id": "70b6d800-3c9e-4349-bb39-4f8e671c386e",
   "metadata": {},
   "outputs": [
    {
     "name": "stdout",
     "output_type": "stream",
     "text": [
      " int [1:10] 1 2 3 4 5 6 7 8 9 10\n"
     ]
    }
   ],
   "source": [
    "str(vec)"
   ]
  },
  {
   "cell_type": "markdown",
   "id": "0f2f78a6-61a8-4cc2-a6d8-e9bfe9eb8943",
   "metadata": {},
   "source": [
    "__*str*__ gives us the structure of the data.  In this case, it's a simple vector of integers.  For more complex data structures, __*str*__ is a valuable tool for understanding what types of data are in your data structure and how it is organized.  For now, let's look at the third way to identify the data type.  Most data types in R have a corresponding __*is*__ function that indicates using logical values whether the data is or is not of a specific type."
   ]
  },
  {
   "cell_type": "code",
   "execution_count": 3,
   "id": "58c101e6-ecdd-401e-a7b0-fe15daf96f02",
   "metadata": {},
   "outputs": [
    {
     "data": {
      "text/html": [
       "TRUE"
      ],
      "text/latex": [
       "TRUE"
      ],
      "text/markdown": [
       "TRUE"
      ],
      "text/plain": [
       "[1] TRUE"
      ]
     },
     "metadata": {},
     "output_type": "display_data"
    }
   ],
   "source": [
    "is.integer(vec)"
   ]
  },
  {
   "cell_type": "code",
   "execution_count": 4,
   "id": "8cf9cf5b-bb7e-4504-bcf0-a72863d7b064",
   "metadata": {},
   "outputs": [
    {
     "data": {
      "text/html": [
       "TRUE"
      ],
      "text/latex": [
       "TRUE"
      ],
      "text/markdown": [
       "TRUE"
      ],
      "text/plain": [
       "[1] TRUE"
      ]
     },
     "metadata": {},
     "output_type": "display_data"
    }
   ],
   "source": [
    "is.numeric(vec)"
   ]
  },
  {
   "cell_type": "code",
   "execution_count": 5,
   "id": "53c72e72-34d1-4474-825a-015d40414be9",
   "metadata": {},
   "outputs": [
    {
     "data": {
      "text/html": [
       "FALSE"
      ],
      "text/latex": [
       "FALSE"
      ],
      "text/markdown": [
       "FALSE"
      ],
      "text/plain": [
       "[1] FALSE"
      ]
     },
     "metadata": {},
     "output_type": "display_data"
    }
   ],
   "source": [
    "is.character(vec)"
   ]
  },
  {
   "cell_type": "markdown",
   "id": "e451ef17-81aa-413b-a073-71f9478d47b4",
   "metadata": {},
   "source": [
    "<div class=\"alert alert-block alert-info\">\n",
    "<b>&#9995; Tip:</b> Notice that vec is both integer and numeric.  Integer values are numeric, but numeric values are not necessarily integers.</div>"
   ]
  },
  {
   "cell_type": "markdown",
   "id": "b4c6d9bb-b69a-4de0-9fa0-e46b0d5716ec",
   "metadata": {},
   "source": [
    "For converting between data types, each type has a corresponding *as* function:"
   ]
  },
  {
   "cell_type": "code",
   "execution_count": 6,
   "id": "d1007278-63c5-4620-9a01-05b6cd908865",
   "metadata": {},
   "outputs": [
    {
     "data": {
      "text/html": [
       "TRUE"
      ],
      "text/latex": [
       "TRUE"
      ],
      "text/markdown": [
       "TRUE"
      ],
      "text/plain": [
       "[1] TRUE"
      ]
     },
     "metadata": {},
     "output_type": "display_data"
    }
   ],
   "source": [
    "is.integer(vec)"
   ]
  },
  {
   "cell_type": "code",
   "execution_count": 7,
   "id": "16728333-eb97-45ca-a617-c9518977131b",
   "metadata": {},
   "outputs": [
    {
     "data": {
      "text/html": [
       "FALSE"
      ],
      "text/latex": [
       "FALSE"
      ],
      "text/markdown": [
       "FALSE"
      ],
      "text/plain": [
       "[1] FALSE"
      ]
     },
     "metadata": {},
     "output_type": "display_data"
    },
    {
     "data": {
      "text/html": [
       "TRUE"
      ],
      "text/latex": [
       "TRUE"
      ],
      "text/markdown": [
       "TRUE"
      ],
      "text/plain": [
       "[1] TRUE"
      ]
     },
     "metadata": {},
     "output_type": "display_data"
    }
   ],
   "source": [
    "vec_char <- as.character(vec)\n",
    "is.integer(vec_char)\n",
    "is.character(vec_char)"
   ]
  },
  {
   "cell_type": "markdown",
   "id": "146b8112-80d1-44f2-828e-ec3f4240a35b",
   "metadata": {},
   "source": [
    "There are a few special data types we should cover: **NA**, **NAN** and **+/-Inf**.\n",
    "\n",
    "**NA** means 'not available' and is the most common method of displaying missing data."
   ]
  },
  {
   "cell_type": "code",
   "execution_count": 8,
   "id": "fbcd752e-5c96-482a-825b-195c56c99710",
   "metadata": {},
   "outputs": [
    {
     "data": {
      "text/html": [
       "<style>\n",
       ".list-inline {list-style: none; margin:0; padding: 0}\n",
       ".list-inline>li {display: inline-block}\n",
       ".list-inline>li:not(:last-child)::after {content: \"\\00b7\"; padding: 0 .5ex}\n",
       "</style>\n",
       "<ol class=list-inline><li>1</li><li>3</li><li>4</li><li>0</li><li>7</li><li>9</li></ol>\n"
      ],
      "text/latex": [
       "\\begin{enumerate*}\n",
       "\\item 1\n",
       "\\item 3\n",
       "\\item 4\n",
       "\\item 0\n",
       "\\item 7\n",
       "\\item 9\n",
       "\\end{enumerate*}\n"
      ],
      "text/markdown": [
       "1. 1\n",
       "2. 3\n",
       "3. 4\n",
       "4. 0\n",
       "5. 7\n",
       "6. 9\n",
       "\n",
       "\n"
      ],
      "text/plain": [
       "[1] 1 3 4 0 7 9"
      ]
     },
     "metadata": {},
     "output_type": "display_data"
    }
   ],
   "source": [
    "vec_zero <- c(1,3,4,0,7,9)\n",
    "vec_zero"
   ]
  },
  {
   "cell_type": "code",
   "execution_count": 9,
   "id": "b1140914-a37d-46ec-afcb-43285e9e768f",
   "metadata": {},
   "outputs": [
    {
     "data": {
      "text/html": [
       "<style>\n",
       ".list-inline {list-style: none; margin:0; padding: 0}\n",
       ".list-inline>li {display: inline-block}\n",
       ".list-inline>li:not(:last-child)::after {content: \"\\00b7\"; padding: 0 .5ex}\n",
       "</style>\n",
       "<ol class=list-inline><li>1</li><li>3</li><li>4</li><li>&lt;NA&gt;</li><li>7</li><li>9</li></ol>\n"
      ],
      "text/latex": [
       "\\begin{enumerate*}\n",
       "\\item 1\n",
       "\\item 3\n",
       "\\item 4\n",
       "\\item <NA>\n",
       "\\item 7\n",
       "\\item 9\n",
       "\\end{enumerate*}\n"
      ],
      "text/markdown": [
       "1. 1\n",
       "2. 3\n",
       "3. 4\n",
       "4. &lt;NA&gt;\n",
       "5. 7\n",
       "6. 9\n",
       "\n",
       "\n"
      ],
      "text/plain": [
       "[1]  1  3  4 NA  7  9"
      ]
     },
     "metadata": {},
     "output_type": "display_data"
    }
   ],
   "source": [
    "vec_na <- c(1,3,4,NA,7,9)\n",
    "vec_na"
   ]
  },
  {
   "cell_type": "code",
   "execution_count": 10,
   "id": "63fa169a-75ed-4218-a14a-581b53cc3d39",
   "metadata": {},
   "outputs": [
    {
     "data": {
      "text/html": [
       "4"
      ],
      "text/latex": [
       "4"
      ],
      "text/markdown": [
       "4"
      ],
      "text/plain": [
       "[1] 4"
      ]
     },
     "metadata": {},
     "output_type": "display_data"
    },
    {
     "data": {
      "text/html": [
       "&lt;NA&gt;"
      ],
      "text/latex": [
       "<NA>"
      ],
      "text/markdown": [
       "&lt;NA&gt;"
      ],
      "text/plain": [
       "[1] NA"
      ]
     },
     "metadata": {},
     "output_type": "display_data"
    },
    {
     "data": {
      "text/html": [
       "4.8"
      ],
      "text/latex": [
       "4.8"
      ],
      "text/markdown": [
       "4.8"
      ],
      "text/plain": [
       "[1] 4.8"
      ]
     },
     "metadata": {},
     "output_type": "display_data"
    }
   ],
   "source": [
    "mean(vec_zero)\n",
    "mean(vec_na)\n",
    "mean(vec_na, na.rm = TRUE)"
   ]
  },
  {
   "cell_type": "markdown",
   "id": "13e0d4e0-c880-4d3e-ab28-f9026660fdb2",
   "metadata": {},
   "source": [
    "<div class=\"alert alert-block alert-danger\">\n",
    "<b>&#128721; Caution:</b> Notice that NA is not the same as zero.  In vec_zero, the mean function calculates the mean based on six values including zero, returning a mean of 4.  When we replace the zero with NA, mean returns NA unless we add the argument na.rm = TRUE (meaning remove NA).  The mean of vec_na is then calculated based on five values, returning a mean of 4.8.  When working with real data, we will almost always have to deal with missing values so it's important to know how to deal with it.\n",
    "</div>"
   ]
  },
  {
   "cell_type": "markdown",
   "id": "c1782e4c-c0d0-4b8b-a819-5c6729b41799",
   "metadata": {
    "tags": []
   },
   "source": [
    "<div class=\"alert alert-block alert-info\">\n",
    "<b>&#9995; Tip:</b> 'na.rm' is a common argument in many R functions.  Later we will show ways to work with NA values during import.</div>"
   ]
  },
  {
   "cell_type": "markdown",
   "id": "7d2397ba-4a8f-4e33-b93e-9e50ce8f3536",
   "metadata": {},
   "source": [
    "Now consider the following examples:"
   ]
  },
  {
   "cell_type": "code",
   "execution_count": 11,
   "id": "df84d629-f55f-49f5-a19c-d1ca22d63b78",
   "metadata": {},
   "outputs": [
    {
     "data": {
      "text/html": [
       "NaN"
      ],
      "text/latex": [
       "NaN"
      ],
      "text/markdown": [
       "NaN"
      ],
      "text/plain": [
       "[1] NaN"
      ]
     },
     "metadata": {},
     "output_type": "display_data"
    },
    {
     "data": {
      "text/html": [
       "Inf"
      ],
      "text/latex": [
       "Inf"
      ],
      "text/markdown": [
       "Inf"
      ],
      "text/plain": [
       "[1] Inf"
      ]
     },
     "metadata": {},
     "output_type": "display_data"
    },
    {
     "data": {
      "text/html": [
       "-Inf"
      ],
      "text/latex": [
       "-Inf"
      ],
      "text/markdown": [
       "-Inf"
      ],
      "text/plain": [
       "[1] -Inf"
      ]
     },
     "metadata": {},
     "output_type": "display_data"
    }
   ],
   "source": [
    "0/0\n",
    "1/0\n",
    "-1/0"
   ]
  },
  {
   "cell_type": "markdown",
   "id": "edea7b74-0ec3-4fdb-9953-dad66013091e",
   "metadata": {},
   "source": [
    "In many programming languages, attempting to carry out an improper mathematical operation such as dividing by zero will return an error.  In R, we instead get the following values:\n",
    "<ul>\n",
    "    <li><b>NaN</b> - Not a Number\n",
    "    <li><b>Inf</b> - Positive Infinity\n",
    "    <li><b>-Inf</b> - Negative Infinity\n",
    "</ul>\n",
    "\n",
    "This functionality allows you to work with these types of situations with requiring extra error checking routines.  As with other data types,  "
   ]
  },
  {
   "cell_type": "code",
   "execution_count": 12,
   "id": "18ffae80-f9ae-4757-94dd-608552482bfb",
   "metadata": {},
   "outputs": [
    {
     "data": {
      "text/html": [
       "<style>\n",
       ".list-inline {list-style: none; margin:0; padding: 0}\n",
       ".list-inline>li {display: inline-block}\n",
       ".list-inline>li:not(:last-child)::after {content: \"\\00b7\"; padding: 0 .5ex}\n",
       "</style>\n",
       "<ol class=list-inline><li>1</li><li>3</li><li>&lt;NA&gt;</li><li>NaN</li><li>Inf</li><li>-Inf</li><li>10</li></ol>\n"
      ],
      "text/latex": [
       "\\begin{enumerate*}\n",
       "\\item 1\n",
       "\\item 3\n",
       "\\item <NA>\n",
       "\\item NaN\n",
       "\\item Inf\n",
       "\\item -Inf\n",
       "\\item 10\n",
       "\\end{enumerate*}\n"
      ],
      "text/markdown": [
       "1. 1\n",
       "2. 3\n",
       "3. &lt;NA&gt;\n",
       "4. NaN\n",
       "5. Inf\n",
       "6. -Inf\n",
       "7. 10\n",
       "\n",
       "\n"
      ],
      "text/plain": [
       "[1]    1    3   NA  NaN  Inf -Inf   10"
      ]
     },
     "metadata": {},
     "output_type": "display_data"
    }
   ],
   "source": [
    "vec_nan <- c(1, 3, NA, NaN, Inf, -Inf, 10)\n",
    "vec_nan"
   ]
  },
  {
   "cell_type": "code",
   "execution_count": 13,
   "id": "3a94efa0-f462-456f-88c9-824612eac8a6",
   "metadata": {},
   "outputs": [
    {
     "data": {
      "text/html": [
       "<style>\n",
       ".list-inline {list-style: none; margin:0; padding: 0}\n",
       ".list-inline>li {display: inline-block}\n",
       ".list-inline>li:not(:last-child)::after {content: \"\\00b7\"; padding: 0 .5ex}\n",
       "</style>\n",
       "<ol class=list-inline><li>FALSE</li><li>FALSE</li><li>TRUE</li><li>TRUE</li><li>FALSE</li><li>FALSE</li><li>FALSE</li></ol>\n"
      ],
      "text/latex": [
       "\\begin{enumerate*}\n",
       "\\item FALSE\n",
       "\\item FALSE\n",
       "\\item TRUE\n",
       "\\item TRUE\n",
       "\\item FALSE\n",
       "\\item FALSE\n",
       "\\item FALSE\n",
       "\\end{enumerate*}\n"
      ],
      "text/markdown": [
       "1. FALSE\n",
       "2. FALSE\n",
       "3. TRUE\n",
       "4. TRUE\n",
       "5. FALSE\n",
       "6. FALSE\n",
       "7. FALSE\n",
       "\n",
       "\n"
      ],
      "text/plain": [
       "[1] FALSE FALSE  TRUE  TRUE FALSE FALSE FALSE"
      ]
     },
     "metadata": {},
     "output_type": "display_data"
    },
    {
     "data": {
      "text/html": [
       "<style>\n",
       ".list-inline {list-style: none; margin:0; padding: 0}\n",
       ".list-inline>li {display: inline-block}\n",
       ".list-inline>li:not(:last-child)::after {content: \"\\00b7\"; padding: 0 .5ex}\n",
       "</style>\n",
       "<ol class=list-inline><li>FALSE</li><li>FALSE</li><li>FALSE</li><li>TRUE</li><li>FALSE</li><li>FALSE</li><li>FALSE</li></ol>\n"
      ],
      "text/latex": [
       "\\begin{enumerate*}\n",
       "\\item FALSE\n",
       "\\item FALSE\n",
       "\\item FALSE\n",
       "\\item TRUE\n",
       "\\item FALSE\n",
       "\\item FALSE\n",
       "\\item FALSE\n",
       "\\end{enumerate*}\n"
      ],
      "text/markdown": [
       "1. FALSE\n",
       "2. FALSE\n",
       "3. FALSE\n",
       "4. TRUE\n",
       "5. FALSE\n",
       "6. FALSE\n",
       "7. FALSE\n",
       "\n",
       "\n"
      ],
      "text/plain": [
       "[1] FALSE FALSE FALSE  TRUE FALSE FALSE FALSE"
      ]
     },
     "metadata": {},
     "output_type": "display_data"
    },
    {
     "data": {
      "text/html": [
       "<style>\n",
       ".list-inline {list-style: none; margin:0; padding: 0}\n",
       ".list-inline>li {display: inline-block}\n",
       ".list-inline>li:not(:last-child)::after {content: \"\\00b7\"; padding: 0 .5ex}\n",
       "</style>\n",
       "<ol class=list-inline><li>FALSE</li><li>FALSE</li><li>FALSE</li><li>FALSE</li><li>TRUE</li><li>TRUE</li><li>FALSE</li></ol>\n"
      ],
      "text/latex": [
       "\\begin{enumerate*}\n",
       "\\item FALSE\n",
       "\\item FALSE\n",
       "\\item FALSE\n",
       "\\item FALSE\n",
       "\\item TRUE\n",
       "\\item TRUE\n",
       "\\item FALSE\n",
       "\\end{enumerate*}\n"
      ],
      "text/markdown": [
       "1. FALSE\n",
       "2. FALSE\n",
       "3. FALSE\n",
       "4. FALSE\n",
       "5. TRUE\n",
       "6. TRUE\n",
       "7. FALSE\n",
       "\n",
       "\n"
      ],
      "text/plain": [
       "[1] FALSE FALSE FALSE FALSE  TRUE  TRUE FALSE"
      ]
     },
     "metadata": {},
     "output_type": "display_data"
    },
    {
     "data": {
      "text/html": [
       "<style>\n",
       ".list-inline {list-style: none; margin:0; padding: 0}\n",
       ".list-inline>li {display: inline-block}\n",
       ".list-inline>li:not(:last-child)::after {content: \"\\00b7\"; padding: 0 .5ex}\n",
       "</style>\n",
       "<ol class=list-inline><li>TRUE</li><li>TRUE</li><li>FALSE</li><li>FALSE</li><li>FALSE</li><li>FALSE</li><li>TRUE</li></ol>\n"
      ],
      "text/latex": [
       "\\begin{enumerate*}\n",
       "\\item TRUE\n",
       "\\item TRUE\n",
       "\\item FALSE\n",
       "\\item FALSE\n",
       "\\item FALSE\n",
       "\\item FALSE\n",
       "\\item TRUE\n",
       "\\end{enumerate*}\n"
      ],
      "text/markdown": [
       "1. TRUE\n",
       "2. TRUE\n",
       "3. FALSE\n",
       "4. FALSE\n",
       "5. FALSE\n",
       "6. FALSE\n",
       "7. TRUE\n",
       "\n",
       "\n"
      ],
      "text/plain": [
       "[1]  TRUE  TRUE FALSE FALSE FALSE FALSE  TRUE"
      ]
     },
     "metadata": {},
     "output_type": "display_data"
    }
   ],
   "source": [
    "is.na(vec_nan)\n",
    "is.nan(vec_nan)\n",
    "is.infinite(vec_nan)\n",
    "is.finite(vec_nan)"
   ]
  },
  {
   "cell_type": "markdown",
   "id": "539bd7ad-b577-49ff-96f0-68e01b530616",
   "metadata": {},
   "source": [
    "The __*is*__ functions return logical vectors indicating which elements of the vector (or other data structure) meet the specified condition."
   ]
  },
  {
   "cell_type": "markdown",
   "id": "c306c7e3-7eb7-41e5-ae40-dd7c1d562cdf",
   "metadata": {},
   "source": [
    "<div class=\"alert alert-block alert-info\">\n",
    "<b>&#9995; Tip:</b> Notice that NaN is also considered NA.</div>"
   ]
  },
  {
   "cell_type": "markdown",
   "id": "586ce19c-01de-4184-87c3-405ca29eacb0",
   "metadata": {},
   "source": [
    "You can negate these operations by using the __*!*__ operator.  For instance, to identify which values in *vec_nan* are NOT **NA**, use:"
   ]
  },
  {
   "cell_type": "code",
   "execution_count": 14,
   "id": "435c6819-aa25-42d9-9dfb-424faa0c27b8",
   "metadata": {},
   "outputs": [
    {
     "data": {
      "text/html": [
       "<style>\n",
       ".list-inline {list-style: none; margin:0; padding: 0}\n",
       ".list-inline>li {display: inline-block}\n",
       ".list-inline>li:not(:last-child)::after {content: \"\\00b7\"; padding: 0 .5ex}\n",
       "</style>\n",
       "<ol class=list-inline><li>TRUE</li><li>TRUE</li><li>TRUE</li><li>FALSE</li><li>TRUE</li><li>TRUE</li></ol>\n"
      ],
      "text/latex": [
       "\\begin{enumerate*}\n",
       "\\item TRUE\n",
       "\\item TRUE\n",
       "\\item TRUE\n",
       "\\item FALSE\n",
       "\\item TRUE\n",
       "\\item TRUE\n",
       "\\end{enumerate*}\n"
      ],
      "text/markdown": [
       "1. TRUE\n",
       "2. TRUE\n",
       "3. TRUE\n",
       "4. FALSE\n",
       "5. TRUE\n",
       "6. TRUE\n",
       "\n",
       "\n"
      ],
      "text/plain": [
       "[1]  TRUE  TRUE  TRUE FALSE  TRUE  TRUE"
      ]
     },
     "metadata": {},
     "output_type": "display_data"
    }
   ],
   "source": [
    "!is.na(vec_na)"
   ]
  },
  {
   "cell_type": "markdown",
   "id": "4e0e7230-6e62-4da2-99e9-df8213b6dfee",
   "metadata": {},
   "source": [
    "Logical vectors are also very useful for subsetting data structures."
   ]
  },
  {
   "cell_type": "code",
   "execution_count": 15,
   "id": "6a01bd90-b2cf-4db6-b856-c373a2f45194",
   "metadata": {},
   "outputs": [
    {
     "data": {
      "text/html": [
       "<style>\n",
       ".list-inline {list-style: none; margin:0; padding: 0}\n",
       ".list-inline>li {display: inline-block}\n",
       ".list-inline>li:not(:last-child)::after {content: \"\\00b7\"; padding: 0 .5ex}\n",
       "</style>\n",
       "<ol class=list-inline><li>1</li><li>3</li><li>10</li></ol>\n"
      ],
      "text/latex": [
       "\\begin{enumerate*}\n",
       "\\item 1\n",
       "\\item 3\n",
       "\\item 10\n",
       "\\end{enumerate*}\n"
      ],
      "text/markdown": [
       "1. 1\n",
       "2. 3\n",
       "3. 10\n",
       "\n",
       "\n"
      ],
      "text/plain": [
       "[1]  1  3 10"
      ]
     },
     "metadata": {},
     "output_type": "display_data"
    },
    {
     "data": {
      "text/html": [
       "<style>\n",
       ".list-inline {list-style: none; margin:0; padding: 0}\n",
       ".list-inline>li {display: inline-block}\n",
       ".list-inline>li:not(:last-child)::after {content: \"\\00b7\"; padding: 0 .5ex}\n",
       "</style>\n",
       "<ol class=list-inline><li>1</li><li>3</li><li>Inf</li><li>-Inf</li><li>10</li></ol>\n"
      ],
      "text/latex": [
       "\\begin{enumerate*}\n",
       "\\item 1\n",
       "\\item 3\n",
       "\\item Inf\n",
       "\\item -Inf\n",
       "\\item 10\n",
       "\\end{enumerate*}\n"
      ],
      "text/markdown": [
       "1. 1\n",
       "2. 3\n",
       "3. Inf\n",
       "4. -Inf\n",
       "5. 10\n",
       "\n",
       "\n"
      ],
      "text/plain": [
       "[1]    1    3  Inf -Inf   10"
      ]
     },
     "metadata": {},
     "output_type": "display_data"
    }
   ],
   "source": [
    "vec_nan[is.finite(vec_nan)]\n",
    "vec_nan[!is.na(vec_nan)]"
   ]
  },
  {
   "cell_type": "markdown",
   "id": "1f0784e3-c1cd-45ba-9bae-cefd95847ea4",
   "metadata": {},
   "source": [
    "<div class=\"alert alert-block alert-info\">\n",
    "<b>&#9995; Tip:</b> Even though NA, NaN and Inf look like character data types, R recognizes them as special cases and will not coerce numeric data if it sees these values.</div>"
   ]
  },
  {
   "cell_type": "markdown",
   "id": "9cf5dbf8-3737-4237-b7be-a6f5596d6ca6",
   "metadata": {},
   "source": [
    "---"
   ]
  },
  {
   "cell_type": "markdown",
   "id": "b04f2ad8-8538-4bf6-b045-a29a81b43c60",
   "metadata": {},
   "source": [
    "Now that we understand data types, let's discuss data structures.  A data structure is a way to organize our data in a consistent form that can be easily manipulated by other R functions.  When we store data in a variable, we must either explicitly define the data structure or trust R to define it for us.  For example, when we load a text file into R, it will typically be loaded as a data frame unless we explicitly define it as, for example, a matrix.\n",
    "\n",
    "Data structures in R are typically defined by two properties: dimensionality and homogeneity. A homogeneous data structure means that all values in the data structure are of the same data type, e.g., all numeric.  A heterogeneous data structure allows for each element to be its own type, though there may still be restrictions on data types within that element.\n",
    "\n",
    "Dimensionality simply means how many dimensions the data structure is composed of.  A 1-dimensional data structure is an ordered sequence of values (e.g., 1,2,3,4,5).  Multi-dimensional data structures add one or more dimensions to the data (e.g., a 2-dimensional data structure is similar to how data is organized in a spreadsheet).  Below is a table of the most common base R data structures."
   ]
  },
  {
   "cell_type": "markdown",
   "id": "c46730be-1210-4cc4-9c71-cb419e38bdda",
   "metadata": {},
   "source": [
    "<table>\n",
    "<thead>\n",
    "    <tr><th>Dimensionality</th><th>Homogeneous</th><th>Heterogeneous</th></tr>\n",
    "</thead>\n",
    "<tbody>\n",
    "    <tr><td>1-Dimensional</td><td>Vector</td><td>List</td></tr>\n",
    "    <tr><td>2-Dimensional</td><td>Matrix</td><td>Data Frame</td></tr>\n",
    "    <tr><td>Multi-Dimensional</td><td>Array</td><td>-</td></tr>\n",
    "</tbody>\n",
    "</table>"
   ]
  },
  {
   "cell_type": "markdown",
   "id": "1eb3c31e-5235-414b-8afc-0b2769e67801",
   "metadata": {},
   "source": [
    "<div class=\"alert alert-block alert-info\">\n",
    "<b>&#9995; Tip:</b> These are the base R data structures, but you will often see package developers create new data structures for specific applications.  These are usually based off of the existing base R data structures but allow for additional functionality, specific storage patterns, etc.  Some common enhanced data structures you might see include:\n",
    "<ul>\n",
    " <li>Data Table - A modified data frame used in the data.table package that is optimized for large datasets and mimics the functionality of databases</li>\n",
    " <li>Tibble - A modified data frame built along tidy principles and implemented in the tidyverse suite of packages</li>\n",
    " </ul>\n",
    "</div>"
   ]
  },
  {
   "cell_type": "markdown",
   "id": "2bc6c678-15a8-4171-a881-b3bd64ee4c81",
   "metadata": {},
   "source": [
    "As with data types, R data structures usually have associated is and as functions for identification and conversion."
   ]
  },
  {
   "cell_type": "markdown",
   "id": "10ae3412-9d5c-4105-bf4b-36d17f8c0b55",
   "metadata": {},
   "source": [
    "### Vectors"
   ]
  },
  {
   "cell_type": "markdown",
   "id": "5cc29895-c71f-4bf6-a1f7-a9f403bcf2d2",
   "metadata": {},
   "source": [
    "The vector is the fundamental data structure in R and is a 1-dimensional homogeneous sequence of values.  We have already seen how to create a vector using the __c()__ function.  A single value is called a scalar, but technically speaking, a scalar in R is just a vector of length 1."
   ]
  },
  {
   "cell_type": "code",
   "execution_count": 16,
   "id": "291272de-de31-48aa-9eef-82e2d9f45cf6",
   "metadata": {},
   "outputs": [
    {
     "data": {
      "text/html": [
       "<style>\n",
       ".list-inline {list-style: none; margin:0; padding: 0}\n",
       ".list-inline>li {display: inline-block}\n",
       ".list-inline>li:not(:last-child)::after {content: \"\\00b7\"; padding: 0 .5ex}\n",
       "</style>\n",
       "<ol class=list-inline><li>1</li><li>2</li><li>3</li><li>4</li><li>5</li><li>6</li><li>7</li><li>8</li><li>9</li><li>10</li></ol>\n"
      ],
      "text/latex": [
       "\\begin{enumerate*}\n",
       "\\item 1\n",
       "\\item 2\n",
       "\\item 3\n",
       "\\item 4\n",
       "\\item 5\n",
       "\\item 6\n",
       "\\item 7\n",
       "\\item 8\n",
       "\\item 9\n",
       "\\item 10\n",
       "\\end{enumerate*}\n"
      ],
      "text/markdown": [
       "1. 1\n",
       "2. 2\n",
       "3. 3\n",
       "4. 4\n",
       "5. 5\n",
       "6. 6\n",
       "7. 7\n",
       "8. 8\n",
       "9. 9\n",
       "10. 10\n",
       "\n",
       "\n"
      ],
      "text/plain": [
       " [1]  1  2  3  4  5  6  7  8  9 10"
      ]
     },
     "metadata": {},
     "output_type": "display_data"
    }
   ],
   "source": [
    "vec"
   ]
  },
  {
   "cell_type": "code",
   "execution_count": 17,
   "id": "1a9d6cd9-41af-4e2d-9ed6-f1debbd7b714",
   "metadata": {},
   "outputs": [
    {
     "data": {
      "text/html": [
       "10"
      ],
      "text/latex": [
       "10"
      ],
      "text/markdown": [
       "10"
      ],
      "text/plain": [
       "[1] 10"
      ]
     },
     "metadata": {},
     "output_type": "display_data"
    }
   ],
   "source": [
    "length(vec)"
   ]
  },
  {
   "cell_type": "code",
   "execution_count": 18,
   "id": "99fdb7ee-99d7-4d72-abe9-3362cb617775",
   "metadata": {},
   "outputs": [
    {
     "data": {
      "text/html": [
       "TRUE"
      ],
      "text/latex": [
       "TRUE"
      ],
      "text/markdown": [
       "TRUE"
      ],
      "text/plain": [
       "[1] TRUE"
      ]
     },
     "metadata": {},
     "output_type": "display_data"
    }
   ],
   "source": [
    "is.vector(vec)"
   ]
  },
  {
   "cell_type": "code",
   "execution_count": 19,
   "id": "e31ab7ce-7d83-4262-943f-6ed4fb79949f",
   "metadata": {},
   "outputs": [
    {
     "data": {
      "text/html": [
       "FALSE"
      ],
      "text/latex": [
       "FALSE"
      ],
      "text/markdown": [
       "FALSE"
      ],
      "text/plain": [
       "[1] FALSE"
      ]
     },
     "metadata": {},
     "output_type": "display_data"
    }
   ],
   "source": [
    "is.list(vec)"
   ]
  },
  {
   "cell_type": "markdown",
   "id": "64541aa9-3312-4054-854c-430adaf30f03",
   "metadata": {},
   "source": [
    "You might have encountered vectors in previous math classes to indicate the direction and magnitude of an arrow.  That's exactly what we're working with in R, just on a more generalized scale. R is specifically designed to carry out mathematical operations on vectors and matrices.  In fact, R uses a process called vectorization to carry out operations on all elements of a data structure, meaning that we can carry out simple or complex mathematical operations without having to write specific looping functions."
   ]
  },
  {
   "cell_type": "code",
   "execution_count": 20,
   "id": "883b7f67-20c8-4234-9acf-3feb2e40d1c5",
   "metadata": {},
   "outputs": [
    {
     "data": {
      "text/html": [
       "<style>\n",
       ".list-inline {list-style: none; margin:0; padding: 0}\n",
       ".list-inline>li {display: inline-block}\n",
       ".list-inline>li:not(:last-child)::after {content: \"\\00b7\"; padding: 0 .5ex}\n",
       "</style>\n",
       "<ol class=list-inline><li>2</li><li>4</li><li>6</li><li>8</li><li>10</li><li>12</li><li>14</li><li>16</li><li>18</li><li>20</li></ol>\n"
      ],
      "text/latex": [
       "\\begin{enumerate*}\n",
       "\\item 2\n",
       "\\item 4\n",
       "\\item 6\n",
       "\\item 8\n",
       "\\item 10\n",
       "\\item 12\n",
       "\\item 14\n",
       "\\item 16\n",
       "\\item 18\n",
       "\\item 20\n",
       "\\end{enumerate*}\n"
      ],
      "text/markdown": [
       "1. 2\n",
       "2. 4\n",
       "3. 6\n",
       "4. 8\n",
       "5. 10\n",
       "6. 12\n",
       "7. 14\n",
       "8. 16\n",
       "9. 18\n",
       "10. 20\n",
       "\n",
       "\n"
      ],
      "text/plain": [
       " [1]  2  4  6  8 10 12 14 16 18 20"
      ]
     },
     "metadata": {},
     "output_type": "display_data"
    }
   ],
   "source": [
    "2*vec"
   ]
  },
  {
   "cell_type": "code",
   "execution_count": 21,
   "id": "732eb509-38a7-4865-86e6-f4c8357ea7ba",
   "metadata": {},
   "outputs": [
    {
     "data": {
      "text/html": [
       "<style>\n",
       ".list-inline {list-style: none; margin:0; padding: 0}\n",
       ".list-inline>li {display: inline-block}\n",
       ".list-inline>li:not(:last-child)::after {content: \"\\00b7\"; padding: 0 .5ex}\n",
       "</style>\n",
       "<ol class=list-inline><li>1</li><li>4</li><li>9</li><li>16</li><li>25</li><li>36</li><li>49</li><li>64</li><li>81</li><li>100</li></ol>\n"
      ],
      "text/latex": [
       "\\begin{enumerate*}\n",
       "\\item 1\n",
       "\\item 4\n",
       "\\item 9\n",
       "\\item 16\n",
       "\\item 25\n",
       "\\item 36\n",
       "\\item 49\n",
       "\\item 64\n",
       "\\item 81\n",
       "\\item 100\n",
       "\\end{enumerate*}\n"
      ],
      "text/markdown": [
       "1. 1\n",
       "2. 4\n",
       "3. 9\n",
       "4. 16\n",
       "5. 25\n",
       "6. 36\n",
       "7. 49\n",
       "8. 64\n",
       "9. 81\n",
       "10. 100\n",
       "\n",
       "\n"
      ],
      "text/plain": [
       " [1]   1   4   9  16  25  36  49  64  81 100"
      ]
     },
     "metadata": {},
     "output_type": "display_data"
    }
   ],
   "source": [
    "vec^2"
   ]
  },
  {
   "cell_type": "code",
   "execution_count": 22,
   "id": "b38b9369-201c-45cc-8142-b7b04fb491ea",
   "metadata": {},
   "outputs": [
    {
     "data": {
      "text/html": [
       "<table class=\"dataframe\">\n",
       "<caption>A matrix: 1 × 10 of type int</caption>\n",
       "<tbody>\n",
       "\t<tr><td>1</td><td>4</td><td>9</td><td>16</td><td>25</td><td>36</td><td>49</td><td>64</td><td>81</td><td>100</td></tr>\n",
       "</tbody>\n",
       "</table>\n"
      ],
      "text/latex": [
       "A matrix: 1 × 10 of type int\n",
       "\\begin{tabular}{llllllllll}\n",
       "\t 1 & 4 & 9 & 16 & 25 & 36 & 49 & 64 & 81 & 100\\\\\n",
       "\\end{tabular}\n"
      ],
      "text/markdown": [
       "\n",
       "A matrix: 1 × 10 of type int\n",
       "\n",
       "| 1 | 4 | 9 | 16 | 25 | 36 | 49 | 64 | 81 | 100 |\n",
       "\n"
      ],
      "text/plain": [
       "     [,1] [,2] [,3] [,4] [,5] [,6] [,7] [,8] [,9] [,10]\n",
       "[1,] 1    4    9    16   25   36   49   64   81   100  "
      ]
     },
     "metadata": {},
     "output_type": "display_data"
    }
   ],
   "source": [
    "vec * t(vec)"
   ]
  },
  {
   "cell_type": "markdown",
   "id": "62f794a1-f1f8-47df-8cbc-7c1156232986",
   "metadata": {},
   "source": [
    "As previously mentioned, a vector is homogeneous, meaning all values must be of the same type.  This is important to remember, because in the case of ambiguous data, R will attempt to coerce the data to a single type which can cause problems for your analysis.  Consider the following cases:"
   ]
  },
  {
   "cell_type": "code",
   "execution_count": 23,
   "id": "74f1f7e7-6d45-497d-8320-f0ff124119d1",
   "metadata": {},
   "outputs": [
    {
     "data": {
      "text/html": [
       "'numeric'"
      ],
      "text/latex": [
       "'numeric'"
      ],
      "text/markdown": [
       "'numeric'"
      ],
      "text/plain": [
       "[1] \"numeric\""
      ]
     },
     "metadata": {},
     "output_type": "display_data"
    },
    {
     "data": {
      "text/html": [
       "6"
      ],
      "text/latex": [
       "6"
      ],
      "text/markdown": [
       "6"
      ],
      "text/plain": [
       "[1] 6"
      ]
     },
     "metadata": {},
     "output_type": "display_data"
    }
   ],
   "source": [
    "vec_num <- c(1,3,4,7,9,12)\n",
    "class(vec_num)\n",
    "mean(vec_num)"
   ]
  },
  {
   "cell_type": "code",
   "execution_count": 24,
   "id": "39d62f44-262e-430e-a254-06d2f88b4e05",
   "metadata": {},
   "outputs": [
    {
     "data": {
      "text/html": [
       "'character'"
      ],
      "text/latex": [
       "'character'"
      ],
      "text/markdown": [
       "'character'"
      ],
      "text/plain": [
       "[1] \"character\""
      ]
     },
     "metadata": {},
     "output_type": "display_data"
    },
    {
     "name": "stderr",
     "output_type": "stream",
     "text": [
      "Warning message in mean.default(vec_char):\n",
      "“argument is not numeric or logical: returning NA”\n"
     ]
    },
    {
     "data": {
      "text/html": [
       "&lt;NA&gt;"
      ],
      "text/latex": [
       "<NA>"
      ],
      "text/markdown": [
       "&lt;NA&gt;"
      ],
      "text/plain": [
       "[1] NA"
      ]
     },
     "metadata": {},
     "output_type": "display_data"
    }
   ],
   "source": [
    "vec_char <- c(1,3,4,\"7\",9,12)\n",
    "class(vec_char)\n",
    "mean(vec_char)"
   ]
  },
  {
   "cell_type": "markdown",
   "id": "4d8ca0cb-73fb-4cc1-b8a8-42afca0dee9d",
   "metadata": {},
   "source": [
    "In __*vec_char*__, a single character forces every element of the vector to be changed to the character type.  When we try to carry out mathematical operations on this vector, we get a warning because the mean function expects numeric data.\n",
    "\n",
    "This is a very common problem when importing data from external sources such as spreadsheets, so it's important to always check the structure of your data when importing to ensure that your data is what you expect it to be.\n",
    "\n",
    "To extract elements from a vector, we use square bracket notation.  There are a variety of ways to extract specific elements from a vector, some of which are shown below."
   ]
  },
  {
   "cell_type": "code",
   "execution_count": 25,
   "id": "3f64c191-0167-484d-8249-12d6389b1f09",
   "metadata": {},
   "outputs": [
    {
     "data": {
      "text/html": [
       "<style>\n",
       ".list-inline {list-style: none; margin:0; padding: 0}\n",
       ".list-inline>li {display: inline-block}\n",
       ".list-inline>li:not(:last-child)::after {content: \"\\00b7\"; padding: 0 .5ex}\n",
       "</style>\n",
       "<ol class=list-inline><li>1</li><li>2</li><li>3</li><li>4</li><li>5</li><li>6</li><li>7</li><li>8</li><li>9</li><li>10</li></ol>\n"
      ],
      "text/latex": [
       "\\begin{enumerate*}\n",
       "\\item 1\n",
       "\\item 2\n",
       "\\item 3\n",
       "\\item 4\n",
       "\\item 5\n",
       "\\item 6\n",
       "\\item 7\n",
       "\\item 8\n",
       "\\item 9\n",
       "\\item 10\n",
       "\\end{enumerate*}\n"
      ],
      "text/markdown": [
       "1. 1\n",
       "2. 2\n",
       "3. 3\n",
       "4. 4\n",
       "5. 5\n",
       "6. 6\n",
       "7. 7\n",
       "8. 8\n",
       "9. 9\n",
       "10. 10\n",
       "\n",
       "\n"
      ],
      "text/plain": [
       " [1]  1  2  3  4  5  6  7  8  9 10"
      ]
     },
     "metadata": {},
     "output_type": "display_data"
    },
    {
     "data": {
      "text/html": [
       "1"
      ],
      "text/latex": [
       "1"
      ],
      "text/markdown": [
       "1"
      ],
      "text/plain": [
       "[1] 1"
      ]
     },
     "metadata": {},
     "output_type": "display_data"
    },
    {
     "data": {
      "text/html": [
       "<style>\n",
       ".list-inline {list-style: none; margin:0; padding: 0}\n",
       ".list-inline>li {display: inline-block}\n",
       ".list-inline>li:not(:last-child)::after {content: \"\\00b7\"; padding: 0 .5ex}\n",
       "</style>\n",
       "<ol class=list-inline><li>2</li><li>3</li><li>4</li><li>5</li><li>6</li><li>7</li><li>8</li><li>9</li><li>10</li></ol>\n"
      ],
      "text/latex": [
       "\\begin{enumerate*}\n",
       "\\item 2\n",
       "\\item 3\n",
       "\\item 4\n",
       "\\item 5\n",
       "\\item 6\n",
       "\\item 7\n",
       "\\item 8\n",
       "\\item 9\n",
       "\\item 10\n",
       "\\end{enumerate*}\n"
      ],
      "text/markdown": [
       "1. 2\n",
       "2. 3\n",
       "3. 4\n",
       "4. 5\n",
       "5. 6\n",
       "6. 7\n",
       "7. 8\n",
       "8. 9\n",
       "9. 10\n",
       "\n",
       "\n"
      ],
      "text/plain": [
       "[1]  2  3  4  5  6  7  8  9 10"
      ]
     },
     "metadata": {},
     "output_type": "display_data"
    },
    {
     "data": {
      "text/html": [
       "<style>\n",
       ".list-inline {list-style: none; margin:0; padding: 0}\n",
       ".list-inline>li {display: inline-block}\n",
       ".list-inline>li:not(:last-child)::after {content: \"\\00b7\"; padding: 0 .5ex}\n",
       "</style>\n",
       "<ol class=list-inline><li>1</li><li>2</li><li>3</li></ol>\n"
      ],
      "text/latex": [
       "\\begin{enumerate*}\n",
       "\\item 1\n",
       "\\item 2\n",
       "\\item 3\n",
       "\\end{enumerate*}\n"
      ],
      "text/markdown": [
       "1. 1\n",
       "2. 2\n",
       "3. 3\n",
       "\n",
       "\n"
      ],
      "text/plain": [
       "[1] 1 2 3"
      ]
     },
     "metadata": {},
     "output_type": "display_data"
    },
    {
     "data": {
      "text/html": [
       "<style>\n",
       ".list-inline {list-style: none; margin:0; padding: 0}\n",
       ".list-inline>li {display: inline-block}\n",
       ".list-inline>li:not(:last-child)::after {content: \"\\00b7\"; padding: 0 .5ex}\n",
       "</style>\n",
       "<ol class=list-inline><li>1</li><li>3</li></ol>\n"
      ],
      "text/latex": [
       "\\begin{enumerate*}\n",
       "\\item 1\n",
       "\\item 3\n",
       "\\end{enumerate*}\n"
      ],
      "text/markdown": [
       "1. 1\n",
       "2. 3\n",
       "\n",
       "\n"
      ],
      "text/plain": [
       "[1] 1 3"
      ]
     },
     "metadata": {},
     "output_type": "display_data"
    }
   ],
   "source": [
    "vec\n",
    "vec[1]\n",
    "vec[-1]\n",
    "vec[1:3]\n",
    "vec[c(1,3)]"
   ]
  },
  {
   "cell_type": "code",
   "execution_count": 26,
   "id": "458919ed-30f0-4907-b333-a6719fc5f0de",
   "metadata": {},
   "outputs": [
    {
     "data": {
      "text/html": [
       "<style>\n",
       ".list-inline {list-style: none; margin:0; padding: 0}\n",
       ".list-inline>li {display: inline-block}\n",
       ".list-inline>li:not(:last-child)::after {content: \"\\00b7\"; padding: 0 .5ex}\n",
       "</style>\n",
       "<ol class=list-inline><li>1</li><li>3</li><li>4</li><li>5</li><li>7</li><li>10</li></ol>\n"
      ],
      "text/latex": [
       "\\begin{enumerate*}\n",
       "\\item 1\n",
       "\\item 3\n",
       "\\item 4\n",
       "\\item 5\n",
       "\\item 7\n",
       "\\item 10\n",
       "\\end{enumerate*}\n"
      ],
      "text/markdown": [
       "1. 1\n",
       "2. 3\n",
       "3. 4\n",
       "4. 5\n",
       "5. 7\n",
       "6. 10\n",
       "\n",
       "\n"
      ],
      "text/plain": [
       "[1]  1  3  4  5  7 10"
      ]
     },
     "metadata": {},
     "output_type": "display_data"
    }
   ],
   "source": [
    "vec_log <- c(TRUE, FALSE, TRUE, TRUE, TRUE, FALSE, TRUE, FALSE, FALSE, TRUE)\n",
    "vec[vec_log]"
   ]
  },
  {
   "cell_type": "code",
   "execution_count": 27,
   "id": "1a61ff54-db86-4801-afaa-c774c928fafa",
   "metadata": {},
   "outputs": [
    {
     "data": {
      "text/html": [
       "<style>\n",
       ".list-inline {list-style: none; margin:0; padding: 0}\n",
       ".list-inline>li {display: inline-block}\n",
       ".list-inline>li:not(:last-child)::after {content: \"\\00b7\"; padding: 0 .5ex}\n",
       "</style>\n",
       "<ol class=list-inline><li>7</li><li>8</li><li>9</li><li>10</li></ol>\n"
      ],
      "text/latex": [
       "\\begin{enumerate*}\n",
       "\\item 7\n",
       "\\item 8\n",
       "\\item 9\n",
       "\\item 10\n",
       "\\end{enumerate*}\n"
      ],
      "text/markdown": [
       "1. 7\n",
       "2. 8\n",
       "3. 9\n",
       "4. 10\n",
       "\n",
       "\n"
      ],
      "text/plain": [
       "[1]  7  8  9 10"
      ]
     },
     "metadata": {},
     "output_type": "display_data"
    },
    {
     "data": {
      "text/html": [
       "<style>\n",
       ".list-inline {list-style: none; margin:0; padding: 0}\n",
       ".list-inline>li {display: inline-block}\n",
       ".list-inline>li:not(:last-child)::after {content: \"\\00b7\"; padding: 0 .5ex}\n",
       "</style>\n",
       "<ol class=list-inline><li>3</li><li>4</li><li>5</li><li>6</li><li>7</li></ol>\n"
      ],
      "text/latex": [
       "\\begin{enumerate*}\n",
       "\\item 3\n",
       "\\item 4\n",
       "\\item 5\n",
       "\\item 6\n",
       "\\item 7\n",
       "\\end{enumerate*}\n"
      ],
      "text/markdown": [
       "1. 3\n",
       "2. 4\n",
       "3. 5\n",
       "4. 6\n",
       "5. 7\n",
       "\n",
       "\n"
      ],
      "text/plain": [
       "[1] 3 4 5 6 7"
      ]
     },
     "metadata": {},
     "output_type": "display_data"
    }
   ],
   "source": [
    "vec[vec > 6]\n",
    "vec[vec > 2 & vec <= 7]"
   ]
  },
  {
   "cell_type": "markdown",
   "id": "66494c72-1793-4a23-91ee-4ce9d43542f9",
   "metadata": {},
   "source": [
    "---"
   ]
  },
  {
   "cell_type": "markdown",
   "id": "48607980-129b-49fd-9fa5-29a2136d826f",
   "metadata": {},
   "source": [
    "### Lists"
   ]
  },
  {
   "cell_type": "markdown",
   "id": "a5ea806f-0240-4b2d-98cd-7b52d551a138",
   "metadata": {},
   "source": [
    "A list is a heterogeneous version of a vector.  In other words, each element of a list can be any data type.  While this may seem chaotic compared to the cleaner vector, it allows us to group together related data that might not necessarily be of the same type.  We create lists using the list function."
   ]
  },
  {
   "cell_type": "code",
   "execution_count": 28,
   "id": "c17989c9-3b3c-403c-9e33-7e5018988983",
   "metadata": {},
   "outputs": [
    {
     "data": {
      "text/html": [
       "<dl>\n",
       "\t<dt>$scalar</dt>\n",
       "\t\t<dd>1</dd>\n",
       "\t<dt>$numeric</dt>\n",
       "\t\t<dd><style>\n",
       ".list-inline {list-style: none; margin:0; padding: 0}\n",
       ".list-inline>li {display: inline-block}\n",
       ".list-inline>li:not(:last-child)::after {content: \"\\00b7\"; padding: 0 .5ex}\n",
       "</style>\n",
       "<ol class=list-inline><li>1</li><li>2</li><li>3</li><li>4</li><li>5</li><li>6</li><li>7</li><li>8</li><li>9</li><li>10</li></ol>\n",
       "</dd>\n",
       "\t<dt>$character</dt>\n",
       "\t\t<dd><style>\n",
       ".list-inline {list-style: none; margin:0; padding: 0}\n",
       ".list-inline>li {display: inline-block}\n",
       ".list-inline>li:not(:last-child)::after {content: \"\\00b7\"; padding: 0 .5ex}\n",
       "</style>\n",
       "<ol class=list-inline><li>'a'</li><li>'b'</li><li>'c'</li></ol>\n",
       "</dd>\n",
       "\t<dt>$logical</dt>\n",
       "\t\t<dd><style>\n",
       ".list-inline {list-style: none; margin:0; padding: 0}\n",
       ".list-inline>li {display: inline-block}\n",
       ".list-inline>li:not(:last-child)::after {content: \"\\00b7\"; padding: 0 .5ex}\n",
       "</style>\n",
       "<ol class=list-inline><li>TRUE</li><li>FALSE</li><li>TRUE</li><li>FALSE</li></ol>\n",
       "</dd>\n",
       "</dl>\n"
      ],
      "text/latex": [
       "\\begin{description}\n",
       "\\item[\\$scalar] 1\n",
       "\\item[\\$numeric] \\begin{enumerate*}\n",
       "\\item 1\n",
       "\\item 2\n",
       "\\item 3\n",
       "\\item 4\n",
       "\\item 5\n",
       "\\item 6\n",
       "\\item 7\n",
       "\\item 8\n",
       "\\item 9\n",
       "\\item 10\n",
       "\\end{enumerate*}\n",
       "\n",
       "\\item[\\$character] \\begin{enumerate*}\n",
       "\\item 'a'\n",
       "\\item 'b'\n",
       "\\item 'c'\n",
       "\\end{enumerate*}\n",
       "\n",
       "\\item[\\$logical] \\begin{enumerate*}\n",
       "\\item TRUE\n",
       "\\item FALSE\n",
       "\\item TRUE\n",
       "\\item FALSE\n",
       "\\end{enumerate*}\n",
       "\n",
       "\\end{description}\n"
      ],
      "text/markdown": [
       "$scalar\n",
       ":   1\n",
       "$numeric\n",
       ":   1. 1\n",
       "2. 2\n",
       "3. 3\n",
       "4. 4\n",
       "5. 5\n",
       "6. 6\n",
       "7. 7\n",
       "8. 8\n",
       "9. 9\n",
       "10. 10\n",
       "\n",
       "\n",
       "\n",
       "$character\n",
       ":   1. 'a'\n",
       "2. 'b'\n",
       "3. 'c'\n",
       "\n",
       "\n",
       "\n",
       "$logical\n",
       ":   1. TRUE\n",
       "2. FALSE\n",
       "3. TRUE\n",
       "4. FALSE\n",
       "\n",
       "\n",
       "\n",
       "\n",
       "\n"
      ],
      "text/plain": [
       "$scalar\n",
       "[1] 1\n",
       "\n",
       "$numeric\n",
       " [1]  1  2  3  4  5  6  7  8  9 10\n",
       "\n",
       "$character\n",
       "[1] \"a\" \"b\" \"c\"\n",
       "\n",
       "$logical\n",
       "[1]  TRUE FALSE  TRUE FALSE\n"
      ]
     },
     "metadata": {},
     "output_type": "display_data"
    },
    {
     "name": "stdout",
     "output_type": "stream",
     "text": [
      "List of 4\n",
      " $ scalar   : num 1\n",
      " $ numeric  : int [1:10] 1 2 3 4 5 6 7 8 9 10\n",
      " $ character: chr [1:3] \"a\" \"b\" \"c\"\n",
      " $ logical  : logi [1:4] TRUE FALSE TRUE FALSE\n"
     ]
    }
   ],
   "source": [
    "l <- list(\"scalar\" = 1, \"numeric\" = 1:10, \"character\" = c(\"a\", \"b\", \"c\"), \"logical\" = c(TRUE, FALSE, TRUE, FALSE))\n",
    "l\n",
    "str(l)"
   ]
  },
  {
   "cell_type": "code",
   "execution_count": 29,
   "id": "5a24ab99-0410-4594-9694-707768badca6",
   "metadata": {},
   "outputs": [
    {
     "data": {
      "text/html": [
       "TRUE"
      ],
      "text/latex": [
       "TRUE"
      ],
      "text/markdown": [
       "TRUE"
      ],
      "text/plain": [
       "[1] TRUE"
      ]
     },
     "metadata": {},
     "output_type": "display_data"
    },
    {
     "data": {
      "text/html": [
       "FALSE"
      ],
      "text/latex": [
       "FALSE"
      ],
      "text/markdown": [
       "FALSE"
      ],
      "text/plain": [
       "[1] FALSE"
      ]
     },
     "metadata": {},
     "output_type": "display_data"
    }
   ],
   "source": [
    "is.list(l)\n",
    "is.data.frame(l)"
   ]
  },
  {
   "cell_type": "markdown",
   "id": "439839ec-9c24-4021-9ec7-386da4538df0",
   "metadata": {},
   "source": [
    "<div class=\"alert alert-block alert-info\">\n",
    "<b>&#9995; Tip:</b> Most data structures in R allow you to name sets of data which you can then refer to instead of the numeric index.  This simplifies manipulating large data sets.</div>"
   ]
  },
  {
   "cell_type": "markdown",
   "id": "b1371cdd-cc25-4c16-b0bd-e4a77af7d017",
   "metadata": {},
   "source": [
    "Notice a few properties of our list.  First, each element of the list is a different length.  In a list, this is perfectly acceptable, but it means that it's up to you to process each element of the list properly.  Second, the final three element of the list are themselves vectors.  In fact, we can add any data structure to a list, including other lists.  This allows us to create very complex multidimensional data structures even though a list is technically only one dimension.  This is a powerful feature of lists, but again, it is up to you to understand the structure of your list and how to get the relevant data out of it.\n",
    "\n",
    "Using the bracket notation that we learned with vectors will return another list.  This isn't always what we want.  To get the data itself from a list, we use the double bracket notation.  In the example below, the double bracket notation returns a vector stored in the second element of the list.  We can then chain that function with standard single bracket notation to get the second element of the vector stored in the second element of the list.  This chain functionality is how we can access data that is stored deeply in a complex list."
   ]
  },
  {
   "cell_type": "code",
   "execution_count": 30,
   "id": "8431ffd9-0efe-4339-813b-2ca0d8034944",
   "metadata": {},
   "outputs": [
    {
     "data": {
      "text/html": [
       "<strong>$numeric</strong> = <style>\n",
       ".list-inline {list-style: none; margin:0; padding: 0}\n",
       ".list-inline>li {display: inline-block}\n",
       ".list-inline>li:not(:last-child)::after {content: \"\\00b7\"; padding: 0 .5ex}\n",
       "</style>\n",
       "<ol class=list-inline><li>1</li><li>2</li><li>3</li><li>4</li><li>5</li><li>6</li><li>7</li><li>8</li><li>9</li><li>10</li></ol>\n"
      ],
      "text/latex": [
       "\\textbf{\\$numeric} = \\begin{enumerate*}\n",
       "\\item 1\n",
       "\\item 2\n",
       "\\item 3\n",
       "\\item 4\n",
       "\\item 5\n",
       "\\item 6\n",
       "\\item 7\n",
       "\\item 8\n",
       "\\item 9\n",
       "\\item 10\n",
       "\\end{enumerate*}\n"
      ],
      "text/markdown": [
       "**$numeric** = 1. 1\n",
       "2. 2\n",
       "3. 3\n",
       "4. 4\n",
       "5. 5\n",
       "6. 6\n",
       "7. 7\n",
       "8. 8\n",
       "9. 9\n",
       "10. 10\n",
       "\n",
       "\n"
      ],
      "text/plain": [
       "$numeric\n",
       " [1]  1  2  3  4  5  6  7  8  9 10\n"
      ]
     },
     "metadata": {},
     "output_type": "display_data"
    },
    {
     "data": {
      "text/html": [
       "<style>\n",
       ".list-inline {list-style: none; margin:0; padding: 0}\n",
       ".list-inline>li {display: inline-block}\n",
       ".list-inline>li:not(:last-child)::after {content: \"\\00b7\"; padding: 0 .5ex}\n",
       "</style>\n",
       "<ol class=list-inline><li>1</li><li>2</li><li>3</li><li>4</li><li>5</li><li>6</li><li>7</li><li>8</li><li>9</li><li>10</li></ol>\n"
      ],
      "text/latex": [
       "\\begin{enumerate*}\n",
       "\\item 1\n",
       "\\item 2\n",
       "\\item 3\n",
       "\\item 4\n",
       "\\item 5\n",
       "\\item 6\n",
       "\\item 7\n",
       "\\item 8\n",
       "\\item 9\n",
       "\\item 10\n",
       "\\end{enumerate*}\n"
      ],
      "text/markdown": [
       "1. 1\n",
       "2. 2\n",
       "3. 3\n",
       "4. 4\n",
       "5. 5\n",
       "6. 6\n",
       "7. 7\n",
       "8. 8\n",
       "9. 9\n",
       "10. 10\n",
       "\n",
       "\n"
      ],
      "text/plain": [
       " [1]  1  2  3  4  5  6  7  8  9 10"
      ]
     },
     "metadata": {},
     "output_type": "display_data"
    },
    {
     "data": {
      "text/html": [
       "2"
      ],
      "text/latex": [
       "2"
      ],
      "text/markdown": [
       "2"
      ],
      "text/plain": [
       "[1] 2"
      ]
     },
     "metadata": {},
     "output_type": "display_data"
    }
   ],
   "source": [
    "l[2]\n",
    "l[[2]]\n",
    "l[[2]][2]"
   ]
  },
  {
   "cell_type": "markdown",
   "id": "b3d35503-5ec7-413f-bf6f-7e88c757fac4",
   "metadata": {},
   "source": [
    "---"
   ]
  },
  {
   "cell_type": "markdown",
   "id": "c56ba7e0-5fee-4329-9da9-96491a137065",
   "metadata": {},
   "source": [
    "### Matrices and Arrays"
   ]
  },
  {
   "cell_type": "markdown",
   "id": "b2f07107-2a9d-45a7-8515-14c25cd43e06",
   "metadata": {},
   "source": [
    "An array is a multi-dimensional data structure that holds data of the same type.  A vector is a one-dimensional array, and a two dimensional array is called a matrix."
   ]
  },
  {
   "cell_type": "markdown",
   "id": "e2a556f8-6ff3-432e-b816-1bc5ec53f787",
   "metadata": {},
   "source": [
    "Vector (dimensions 1x4): $$\\begin{bmatrix} 6 & 4 & 3 & 7 \\end{bmatrix}$$"
   ]
  },
  {
   "cell_type": "markdown",
   "id": "7224eabc-f695-418b-8401-fc49e0b07c1b",
   "metadata": {},
   "source": [
    "Matrix (dimensions 4x4): $$\\begin{bmatrix} 6 & 4 & 3 & 7 \\\\ 2 & 1 & 1 & 4 \\\\ 9 & 1 & 3 & 8 \\\\ 6 & 3 & 2 & 1 \\end{bmatrix}$$ "
   ]
  },
  {
   "cell_type": "markdown",
   "id": "2e601835-fd78-4e44-8894-72dc5eafe515",
   "metadata": {},
   "source": [
    "Array (dimensions 4x4x3): $$\\begin{bmatrix} 6 & 4 & 3 & 7 \\\\ 2 & 1 & 1 & 4 \\\\ 9 & 1 & 3 & 8 \\\\ 6 & 3 & 2 & 1 \\end{bmatrix}_1$$\n",
    "$$\\begin{bmatrix} 3 & 2 & 8 & 1 \\\\ 3 & 3 & 9 & 7 \\\\ 3 & 6 & 5 & 4 \\\\ 7 & 8 & 9 & 2 \\end{bmatrix}_2$$ \n",
    "$$\\begin{bmatrix} 1 & 9 & 0 & 1 \\\\ 4 & 2 & 9 & 7 \\\\ 5 & 3 & 5 & 3 \\\\ 2 & 7 & 8 & 9 \\end{bmatrix}_3$$ "
   ]
  },
  {
   "cell_type": "markdown",
   "id": "1604e10d-60c4-4ecf-a2cb-36e9f368618b",
   "metadata": {},
   "source": [
    "Matrices are the most common type of multidimensional array we deal with, so we'll focus on those going forward.  We can build a matrix using the __*matrix*__ function."
   ]
  },
  {
   "cell_type": "code",
   "execution_count": 31,
   "id": "66c2971e-aba1-47d9-ad8e-fc1528bc7c00",
   "metadata": {},
   "outputs": [
    {
     "data": {
      "text/html": [
       "<table class=\"dataframe\">\n",
       "<caption>A matrix: 4 × 4 of type int</caption>\n",
       "<tbody>\n",
       "\t<tr><td>1</td><td>5</td><td> 9</td><td>13</td></tr>\n",
       "\t<tr><td>2</td><td>6</td><td>10</td><td>14</td></tr>\n",
       "\t<tr><td>3</td><td>7</td><td>11</td><td>15</td></tr>\n",
       "\t<tr><td>4</td><td>8</td><td>12</td><td>16</td></tr>\n",
       "</tbody>\n",
       "</table>\n"
      ],
      "text/latex": [
       "A matrix: 4 × 4 of type int\n",
       "\\begin{tabular}{llll}\n",
       "\t 1 & 5 &  9 & 13\\\\\n",
       "\t 2 & 6 & 10 & 14\\\\\n",
       "\t 3 & 7 & 11 & 15\\\\\n",
       "\t 4 & 8 & 12 & 16\\\\\n",
       "\\end{tabular}\n"
      ],
      "text/markdown": [
       "\n",
       "A matrix: 4 × 4 of type int\n",
       "\n",
       "| 1 | 5 |  9 | 13 |\n",
       "| 2 | 6 | 10 | 14 |\n",
       "| 3 | 7 | 11 | 15 |\n",
       "| 4 | 8 | 12 | 16 |\n",
       "\n"
      ],
      "text/plain": [
       "     [,1] [,2] [,3] [,4]\n",
       "[1,] 1    5     9   13  \n",
       "[2,] 2    6    10   14  \n",
       "[3,] 3    7    11   15  \n",
       "[4,] 4    8    12   16  "
      ]
     },
     "metadata": {},
     "output_type": "display_data"
    },
    {
     "data": {
      "text/html": [
       "TRUE"
      ],
      "text/latex": [
       "TRUE"
      ],
      "text/markdown": [
       "TRUE"
      ],
      "text/plain": [
       "[1] TRUE"
      ]
     },
     "metadata": {},
     "output_type": "display_data"
    },
    {
     "data": {
      "text/html": [
       "<table class=\"dataframe\">\n",
       "<caption>A matrix: 4 × 4 of type int</caption>\n",
       "<tbody>\n",
       "\t<tr><td> 1</td><td> 2</td><td> 3</td><td> 4</td></tr>\n",
       "\t<tr><td> 5</td><td> 6</td><td> 7</td><td> 8</td></tr>\n",
       "\t<tr><td> 9</td><td>10</td><td>11</td><td>12</td></tr>\n",
       "\t<tr><td>13</td><td>14</td><td>15</td><td>16</td></tr>\n",
       "</tbody>\n",
       "</table>\n"
      ],
      "text/latex": [
       "A matrix: 4 × 4 of type int\n",
       "\\begin{tabular}{llll}\n",
       "\t  1 &  2 &  3 &  4\\\\\n",
       "\t  5 &  6 &  7 &  8\\\\\n",
       "\t  9 & 10 & 11 & 12\\\\\n",
       "\t 13 & 14 & 15 & 16\\\\\n",
       "\\end{tabular}\n"
      ],
      "text/markdown": [
       "\n",
       "A matrix: 4 × 4 of type int\n",
       "\n",
       "|  1 |  2 |  3 |  4 |\n",
       "|  5 |  6 |  7 |  8 |\n",
       "|  9 | 10 | 11 | 12 |\n",
       "| 13 | 14 | 15 | 16 |\n",
       "\n"
      ],
      "text/plain": [
       "     [,1] [,2] [,3] [,4]\n",
       "[1,]  1    2    3    4  \n",
       "[2,]  5    6    7    8  \n",
       "[3,]  9   10   11   12  \n",
       "[4,] 13   14   15   16  "
      ]
     },
     "metadata": {},
     "output_type": "display_data"
    },
    {
     "data": {
      "text/html": [
       "TRUE"
      ],
      "text/latex": [
       "TRUE"
      ],
      "text/markdown": [
       "TRUE"
      ],
      "text/plain": [
       "[1] TRUE"
      ]
     },
     "metadata": {},
     "output_type": "display_data"
    }
   ],
   "source": [
    "mat <- matrix(1:16, nrow = 4, ncol = 4)\n",
    "mat\n",
    "is.matrix(mat)\n",
    "mat_byrow <- matrix(1:16, nrow = 4, ncol =4, byrow = TRUE)\n",
    "mat_byrow\n",
    "is.matrix(mat_byrow)"
   ]
  },
  {
   "cell_type": "markdown",
   "id": "5abc70f8-cba1-412b-886d-78c3382aa5ef",
   "metadata": {},
   "source": [
    "The first argument to __*matrix*__ is the data itself.  We use __*nrow*__ and __*ncol*__ to define the dimensions of the matrix, and the __*byrow*__ argument determines whether the matrix is populated by row or by column.  We can check the dimensions of our matrix using the __*dim*__ function."
   ]
  },
  {
   "cell_type": "code",
   "execution_count": 32,
   "id": "46a5f5bf-0359-4093-9995-591bdbcc3284",
   "metadata": {},
   "outputs": [
    {
     "data": {
      "text/html": [
       "<style>\n",
       ".list-inline {list-style: none; margin:0; padding: 0}\n",
       ".list-inline>li {display: inline-block}\n",
       ".list-inline>li:not(:last-child)::after {content: \"\\00b7\"; padding: 0 .5ex}\n",
       "</style>\n",
       "<ol class=list-inline><li>4</li><li>4</li></ol>\n"
      ],
      "text/latex": [
       "\\begin{enumerate*}\n",
       "\\item 4\n",
       "\\item 4\n",
       "\\end{enumerate*}\n"
      ],
      "text/markdown": [
       "1. 4\n",
       "2. 4\n",
       "\n",
       "\n"
      ],
      "text/plain": [
       "[1] 4 4"
      ]
     },
     "metadata": {},
     "output_type": "display_data"
    }
   ],
   "source": [
    "dim(mat)"
   ]
  },
  {
   "cell_type": "markdown",
   "id": "a48fb2c5-96ea-459c-86e2-412831e1a7d5",
   "metadata": {},
   "source": [
    "<div class=\"alert alert-block alert-danger\">\n",
    "    <b>&#128721; Caution:</b> <i>dim</i> will not work on a vector.  Use <i>length</i> instead.  <i>length</i> will also work on a matrix, but it will return the total number of elements in the matrix (e.g., a 4x4 matrix will have length = 16.\n",
    "</div>"
   ]
  },
  {
   "cell_type": "markdown",
   "id": "a3ef1d02-99d6-44ac-a740-1fb6db3c6308",
   "metadata": {},
   "source": [
    "To access elements of a matrix, we use the single bracket notation of vectors but with a second dimension, with the first dimension representing rows and the second representing columns.  By leaving one or the other blank, we can extract all rows or columns (just don't forget the comma)."
   ]
  },
  {
   "cell_type": "code",
   "execution_count": 33,
   "id": "eedf0ddc-df30-4b15-b725-66ed6d0e3bd2",
   "metadata": {},
   "outputs": [
    {
     "data": {
      "text/html": [
       "1"
      ],
      "text/latex": [
       "1"
      ],
      "text/markdown": [
       "1"
      ],
      "text/plain": [
       "[1] 1"
      ]
     },
     "metadata": {},
     "output_type": "display_data"
    }
   ],
   "source": [
    "mat[1,1]"
   ]
  },
  {
   "cell_type": "code",
   "execution_count": 34,
   "id": "c3420759-8bf4-460d-90ce-66cce6b62dbb",
   "metadata": {},
   "outputs": [
    {
     "data": {
      "text/html": [
       "<style>\n",
       ".list-inline {list-style: none; margin:0; padding: 0}\n",
       ".list-inline>li {display: inline-block}\n",
       ".list-inline>li:not(:last-child)::after {content: \"\\00b7\"; padding: 0 .5ex}\n",
       "</style>\n",
       "<ol class=list-inline><li>1</li><li>5</li><li>9</li><li>13</li></ol>\n"
      ],
      "text/latex": [
       "\\begin{enumerate*}\n",
       "\\item 1\n",
       "\\item 5\n",
       "\\item 9\n",
       "\\item 13\n",
       "\\end{enumerate*}\n"
      ],
      "text/markdown": [
       "1. 1\n",
       "2. 5\n",
       "3. 9\n",
       "4. 13\n",
       "\n",
       "\n"
      ],
      "text/plain": [
       "[1]  1  5  9 13"
      ]
     },
     "metadata": {},
     "output_type": "display_data"
    }
   ],
   "source": [
    "mat[1,]"
   ]
  },
  {
   "cell_type": "code",
   "execution_count": 35,
   "id": "34b01c93-9a58-4b00-9921-9494b7de4de0",
   "metadata": {},
   "outputs": [
    {
     "data": {
      "text/html": [
       "<style>\n",
       ".list-inline {list-style: none; margin:0; padding: 0}\n",
       ".list-inline>li {display: inline-block}\n",
       ".list-inline>li:not(:last-child)::after {content: \"\\00b7\"; padding: 0 .5ex}\n",
       "</style>\n",
       "<ol class=list-inline><li>1</li><li>2</li><li>3</li><li>4</li></ol>\n"
      ],
      "text/latex": [
       "\\begin{enumerate*}\n",
       "\\item 1\n",
       "\\item 2\n",
       "\\item 3\n",
       "\\item 4\n",
       "\\end{enumerate*}\n"
      ],
      "text/markdown": [
       "1. 1\n",
       "2. 2\n",
       "3. 3\n",
       "4. 4\n",
       "\n",
       "\n"
      ],
      "text/plain": [
       "[1] 1 2 3 4"
      ]
     },
     "metadata": {},
     "output_type": "display_data"
    }
   ],
   "source": [
    "mat[,1]"
   ]
  },
  {
   "cell_type": "code",
   "execution_count": 36,
   "id": "861808c7-3cdc-4dd5-9c86-1e3abb207a1f",
   "metadata": {},
   "outputs": [
    {
     "data": {
      "text/html": [
       "<table class=\"dataframe\">\n",
       "<caption>A matrix: 3 × 3 of type int</caption>\n",
       "<tbody>\n",
       "\t<tr><td>1</td><td>5</td><td> 9</td></tr>\n",
       "\t<tr><td>2</td><td>6</td><td>10</td></tr>\n",
       "\t<tr><td>3</td><td>7</td><td>11</td></tr>\n",
       "</tbody>\n",
       "</table>\n"
      ],
      "text/latex": [
       "A matrix: 3 × 3 of type int\n",
       "\\begin{tabular}{lll}\n",
       "\t 1 & 5 &  9\\\\\n",
       "\t 2 & 6 & 10\\\\\n",
       "\t 3 & 7 & 11\\\\\n",
       "\\end{tabular}\n"
      ],
      "text/markdown": [
       "\n",
       "A matrix: 3 × 3 of type int\n",
       "\n",
       "| 1 | 5 |  9 |\n",
       "| 2 | 6 | 10 |\n",
       "| 3 | 7 | 11 |\n",
       "\n"
      ],
      "text/plain": [
       "     [,1] [,2] [,3]\n",
       "[1,] 1    5     9  \n",
       "[2,] 2    6    10  \n",
       "[3,] 3    7    11  "
      ]
     },
     "metadata": {},
     "output_type": "display_data"
    }
   ],
   "source": [
    "mat[1:3, 1:3]"
   ]
  },
  {
   "cell_type": "code",
   "execution_count": 37,
   "id": "41730616-a260-48e6-9764-f148fadc1b22",
   "metadata": {},
   "outputs": [
    {
     "data": {
      "text/html": [
       "<style>\n",
       ".list-inline {list-style: none; margin:0; padding: 0}\n",
       ".list-inline>li {display: inline-block}\n",
       ".list-inline>li:not(:last-child)::after {content: \"\\00b7\"; padding: 0 .5ex}\n",
       "</style>\n",
       "<ol class=list-inline><li>6</li><li>7</li><li>8</li><li>9</li><li>10</li><li>11</li><li>12</li><li>13</li><li>14</li><li>15</li><li>16</li></ol>\n"
      ],
      "text/latex": [
       "\\begin{enumerate*}\n",
       "\\item 6\n",
       "\\item 7\n",
       "\\item 8\n",
       "\\item 9\n",
       "\\item 10\n",
       "\\item 11\n",
       "\\item 12\n",
       "\\item 13\n",
       "\\item 14\n",
       "\\item 15\n",
       "\\item 16\n",
       "\\end{enumerate*}\n"
      ],
      "text/markdown": [
       "1. 6\n",
       "2. 7\n",
       "3. 8\n",
       "4. 9\n",
       "5. 10\n",
       "6. 11\n",
       "7. 12\n",
       "8. 13\n",
       "9. 14\n",
       "10. 15\n",
       "11. 16\n",
       "\n",
       "\n"
      ],
      "text/plain": [
       " [1]  6  7  8  9 10 11 12 13 14 15 16"
      ]
     },
     "metadata": {},
     "output_type": "display_data"
    }
   ],
   "source": [
    "mat[mat > 5]"
   ]
  },
  {
   "cell_type": "markdown",
   "id": "3032d56c-8529-485a-9977-12be964f4e0e",
   "metadata": {},
   "source": [
    "We will cover matrices and matrix operations in more detail in <b>Submodule 3: Introduction to Linear Models</b>."
   ]
  },
  {
   "cell_type": "markdown",
   "id": "447d2622-acaa-4705-b3b4-393f83600159",
   "metadata": {},
   "source": [
    "---"
   ]
  },
  {
   "cell_type": "markdown",
   "id": "a2b83d70-6a38-4088-a995-22004dba021d",
   "metadata": {},
   "source": [
    "### Data Frames"
   ]
  },
  {
   "cell_type": "markdown",
   "id": "1dc6b08e-6b5f-43f5-a71b-5881a0e1440a",
   "metadata": {},
   "source": [
    "A **data frame** is a two-dimensional data structure analogous to a spreadsheet.  The rows of a data frame represent some feature (e.g., sample names) while the columns represent variables that define the data (e.g., Treatment state, time points, etc.).  Data frames are heterogeneous in the sense that each column can be its own data type, but within a column, all data must be of the same type.  For example, if you have a column \"Time Point\" that consists of numeric values, then all elements of that column will be numeric unless coerced to something else.\n",
    "\n",
    "The data frame is one of the most common data structures and will almost always be the default data structure when importing external data (such as a spreadsheet).  One common use of data frames in bioinformatics is for phenotypic data (also called metadata), that is, data used to describe samples (as opposed to experimental data)."
   ]
  },
  {
   "cell_type": "markdown",
   "id": "5516bf08-67b3-4b2c-8916-79071814239a",
   "metadata": {},
   "source": [
    "<div class=\"alert alert-block alert-danger\">\n",
    "    <b>&#128721; Caution:</b> One of the most common problems encountered with data frames is coercion of your data because the imported data isn't sufficiently cleaned (especially when importing data from Excel).  Issues include unexpected text or invisible control codes in numeric columns that coerce the data to character, or improperly defined missing data ('0' or '-' instead of blank cells or NA).\n",
    "</div>"
   ]
  },
  {
   "cell_type": "markdown",
   "id": "73af89c4-70f8-42e5-98b8-a8ade012c602",
   "metadata": {},
   "source": [
    "<div class=\"alert alert-block alert-info\">\n",
    "<b>&#9995; Tip:</b> While it's useful to know how to manipulate data frames in base R, we strongly recommend users learn how to use the <b>tibble</b> instead.  The tibble is a modern implementation of the data frame that has most of the same functionality but removes some of the weird quirks that have plagued data frames since their inception.  Tibbles are implemented in the <i>tibble</i> package which is part of the <i>tidyverse</i> suite of packages.  This makes tibbles fully compatible with other <i>tidyverse</i> packages such as <i>ggplot2</i> and <i>dplyr</i> and greatly simplifies tasks such as data subsetting.</div>"
   ]
  },
  {
   "cell_type": "markdown",
   "id": "2fa3b863-fd54-4f78-9520-7ef28cde6d40",
   "metadata": {},
   "source": [
    "Data frames are constructed using the __<i>data.frame</i>__ function."
   ]
  },
  {
   "cell_type": "code",
   "execution_count": 38,
   "id": "916f477c-357a-48a2-92eb-c77bb384d573",
   "metadata": {},
   "outputs": [
    {
     "data": {
      "text/html": [
       "<table class=\"dataframe\">\n",
       "<caption>A data.frame: 9 × 2</caption>\n",
       "<thead>\n",
       "\t<tr><th scope=col>Sample</th><th scope=col>Treatment</th></tr>\n",
       "\t<tr><th scope=col>&lt;chr&gt;</th><th scope=col>&lt;fct&gt;</th></tr>\n",
       "</thead>\n",
       "<tbody>\n",
       "\t<tr><td>S1</td><td>Control  </td></tr>\n",
       "\t<tr><td>S2</td><td>Control  </td></tr>\n",
       "\t<tr><td>S3</td><td>Control  </td></tr>\n",
       "\t<tr><td>S4</td><td>Placebo  </td></tr>\n",
       "\t<tr><td>S5</td><td>Placebo  </td></tr>\n",
       "\t<tr><td>S6</td><td>Placebo  </td></tr>\n",
       "\t<tr><td>S7</td><td>Treatment</td></tr>\n",
       "\t<tr><td>S8</td><td>Treatment</td></tr>\n",
       "\t<tr><td>S9</td><td>Treatment</td></tr>\n",
       "</tbody>\n",
       "</table>\n"
      ],
      "text/latex": [
       "A data.frame: 9 × 2\n",
       "\\begin{tabular}{ll}\n",
       " Sample & Treatment\\\\\n",
       " <chr> & <fct>\\\\\n",
       "\\hline\n",
       "\t S1 & Control  \\\\\n",
       "\t S2 & Control  \\\\\n",
       "\t S3 & Control  \\\\\n",
       "\t S4 & Placebo  \\\\\n",
       "\t S5 & Placebo  \\\\\n",
       "\t S6 & Placebo  \\\\\n",
       "\t S7 & Treatment\\\\\n",
       "\t S8 & Treatment\\\\\n",
       "\t S9 & Treatment\\\\\n",
       "\\end{tabular}\n"
      ],
      "text/markdown": [
       "\n",
       "A data.frame: 9 × 2\n",
       "\n",
       "| Sample &lt;chr&gt; | Treatment &lt;fct&gt; |\n",
       "|---|---|\n",
       "| S1 | Control   |\n",
       "| S2 | Control   |\n",
       "| S3 | Control   |\n",
       "| S4 | Placebo   |\n",
       "| S5 | Placebo   |\n",
       "| S6 | Placebo   |\n",
       "| S7 | Treatment |\n",
       "| S8 | Treatment |\n",
       "| S9 | Treatment |\n",
       "\n"
      ],
      "text/plain": [
       "  Sample Treatment\n",
       "1 S1     Control  \n",
       "2 S2     Control  \n",
       "3 S3     Control  \n",
       "4 S4     Placebo  \n",
       "5 S5     Placebo  \n",
       "6 S6     Placebo  \n",
       "7 S7     Treatment\n",
       "8 S8     Treatment\n",
       "9 S9     Treatment"
      ]
     },
     "metadata": {},
     "output_type": "display_data"
    },
    {
     "data": {
      "text/html": [
       "<style>\n",
       ".list-inline {list-style: none; margin:0; padding: 0}\n",
       ".list-inline>li {display: inline-block}\n",
       ".list-inline>li:not(:last-child)::after {content: \"\\00b7\"; padding: 0 .5ex}\n",
       "</style>\n",
       "<ol class=list-inline><li>9</li><li>2</li></ol>\n"
      ],
      "text/latex": [
       "\\begin{enumerate*}\n",
       "\\item 9\n",
       "\\item 2\n",
       "\\end{enumerate*}\n"
      ],
      "text/markdown": [
       "1. 9\n",
       "2. 2\n",
       "\n",
       "\n"
      ],
      "text/plain": [
       "[1] 9 2"
      ]
     },
     "metadata": {},
     "output_type": "display_data"
    },
    {
     "name": "stdout",
     "output_type": "stream",
     "text": [
      "'data.frame':\t9 obs. of  2 variables:\n",
      " $ Sample   : chr  \"S1\" \"S2\" \"S3\" \"S4\" ...\n",
      " $ Treatment: Factor w/ 3 levels \"Control\",\"Placebo\",..: 1 1 1 2 2 2 3 3 3\n"
     ]
    }
   ],
   "source": [
    "df <- data.frame(\n",
    "    \"Sample\" = c(\"S1\", \"S2\", \"S3\", \"S4\", \"S5\", \"S6\", \"S7\", \"S8\", \"S9\"),\n",
    "    \"Treatment\" = c(rep(\"Control\", 3), rep(\"Placebo\", 3), rep(\"Treatment\", 3))\n",
    ")\n",
    "df$Treatment <- factor(df$Treatment)\n",
    "df\n",
    "dim(df)\n",
    "str(df)"
   ]
  },
  {
   "cell_type": "markdown",
   "id": "05afa9ad-c868-4daf-8888-3955c13b840a",
   "metadata": {},
   "source": [
    "We can extract a specific column from a data frame either by using the matrix notation we learned earlier or we can use the __<i>$</i>__ notation.  In this example, we convert the Treatment column to a factor (since this will be a covariate in a regression model)."
   ]
  },
  {
   "cell_type": "markdown",
   "id": "ab93f3b2-2d39-4ff0-aa2b-133ec38e7eca",
   "metadata": {},
   "source": [
    "---"
   ]
  },
  {
   "cell_type": "markdown",
   "id": "fe142a58-f2f5-410d-a092-917e35bc3541",
   "metadata": {},
   "source": [
    "<p><span style=\"font-size: 30px\"><b>Quizzes</b></span> <span style=\"float : inline;\">(run the command below to display the quizzes)</span> </p>"
   ]
  },
  {
   "cell_type": "code",
   "execution_count": 39,
   "id": "d99c9655-a112-4f4e-a83a-d3829ed51f4c",
   "metadata": {},
   "outputs": [
    {
     "data": {
      "text/html": [
       "<iframe src=\"quizes/Chapter2_Quizes.html\" width=100% height=450></iframe>"
      ]
     },
     "metadata": {},
     "output_type": "display_data"
    }
   ],
   "source": [
    "IRdisplay::display_html('<iframe src=\"quizes/Chapter2_Quizes.html\" width=100% height=450></iframe>')"
   ]
  },
  {
   "cell_type": "markdown",
   "id": "54072f27-c886-40f9-a768-8b3d521828cf",
   "metadata": {},
   "source": [
    "# Why is this important?"
   ]
  },
  {
   "cell_type": "markdown",
   "id": "0054ece4-00e1-4362-97ca-20aadaf7f602",
   "metadata": {},
   "source": [
    "In addition to being able to organize and tidy our data using different data structures, many of the functions in R require specific data types.  For example, matrix operations tend to work on matrices and vectors and you might get errors or strange results if you try those operations on data frames.  When we begin discussing regression, it will be important to know what types of data structures we are working with.  In proteomics analysis, for example, we will use an input matrix of proteomic signal intensities, a design matrix that defines our model, and an error vector.  The output of our regression model is a vector of our coefficients which is itself a weighting vector that indicates which covariate has the greatest effect on our dependent variable.  Understanding our these data structures interact is an important skill in bioinformatics."
   ]
  },
  {
   "cell_type": "code",
   "execution_count": 40,
   "id": "3fb2e3bb-25c6-470f-974d-faa0d86b6277",
   "metadata": {},
   "outputs": [
    {
     "data": {
      "text/plain": [
       "R version 4.2.3 (2023-03-15)\n",
       "Platform: x86_64-pc-linux-gnu (64-bit)\n",
       "Running under: Debian GNU/Linux 10 (buster)\n",
       "\n",
       "Matrix products: default\n",
       "BLAS:   /usr/lib/x86_64-linux-gnu/openblas/libblas.so.3\n",
       "LAPACK: /usr/lib/x86_64-linux-gnu/libopenblasp-r0.3.5.so\n",
       "\n",
       "locale:\n",
       " [1] LC_CTYPE=C.UTF-8       LC_NUMERIC=C           LC_TIME=C.UTF-8       \n",
       " [4] LC_COLLATE=C.UTF-8     LC_MONETARY=C.UTF-8    LC_MESSAGES=C.UTF-8   \n",
       " [7] LC_PAPER=C.UTF-8       LC_NAME=C              LC_ADDRESS=C          \n",
       "[10] LC_TELEPHONE=C         LC_MEASUREMENT=C.UTF-8 LC_IDENTIFICATION=C   \n",
       "\n",
       "attached base packages:\n",
       "[1] stats     graphics  grDevices utils     datasets  methods   base     \n",
       "\n",
       "loaded via a namespace (and not attached):\n",
       " [1] fansi_1.0.4     crayon_1.5.2    digest_0.6.31   utf8_1.2.3     \n",
       " [5] IRdisplay_1.1   repr_1.1.6      lifecycle_1.0.3 jsonlite_1.8.4 \n",
       " [9] evaluate_0.20   pillar_1.9.0    rlang_1.1.0     cli_3.6.1      \n",
       "[13] uuid_1.1-0      vctrs_0.6.1     IRkernel_1.3.2  tools_4.2.3    \n",
       "[17] glue_1.6.2      fastmap_1.1.1   compiler_4.2.3  base64enc_0.1-3\n",
       "[21] pbdZMQ_0.3-9    htmltools_0.5.5"
      ]
     },
     "metadata": {},
     "output_type": "display_data"
    }
   ],
   "source": [
    "sessionInfo()"
   ]
  },
  {
   "cell_type": "code",
   "execution_count": null,
   "id": "9b1882ce-6e9c-4cab-b89d-3055b9c91d6c",
   "metadata": {},
   "outputs": [],
   "source": []
  }
 ],
 "metadata": {
  "environment": {
   "kernel": "ir",
   "name": "r-cpu.4-2.m105",
   "type": "gcloud",
   "uri": "gcr.io/deeplearning-platform-release/r-cpu.4-2:m105"
  },
  "kernelspec": {
   "display_name": "R",
   "language": "R",
   "name": "ir"
  },
  "language_info": {
   "codemirror_mode": "r",
   "file_extension": ".r",
   "mimetype": "text/x-r-source",
   "name": "R",
   "pygments_lexer": "r",
   "version": "4.2.3"
  }
 },
 "nbformat": 4,
 "nbformat_minor": 5
}
