{
 "cells": [
  {
   "cell_type": "code",
   "execution_count": null,
   "id": "b82fabc5-8006-488a-afbf-e0e8e7f43f1f",
   "metadata": {},
   "outputs": [],
   "source": [
    "from jupyterquiz import display_quiz\n",
    "display_quiz(\"Chapter6_Quizes.json\")"
   ]
  }
 ],
 "metadata": {},
 "nbformat": 4,
 "nbformat_minor": 5
}
