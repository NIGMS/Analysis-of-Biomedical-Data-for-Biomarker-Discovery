{
 "cells": [
  {
   "cell_type": "code",
   "execution_count": null,
   "id": "0bd2617b-b39a-490b-aa8a-5515933fde10",
   "metadata": {},
   "outputs": [],
   "source": [
    "from jupyterquiz import display_quiz\n",
    "display_quiz(\"Chapter9_Quizes.json\")"
   ]
  }
 ],
 "metadata": {},
 "nbformat": 4,
 "nbformat_minor": 5
}
