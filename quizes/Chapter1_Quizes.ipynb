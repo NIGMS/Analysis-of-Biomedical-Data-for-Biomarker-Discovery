{
 "cells": [
  {
   "cell_type": "code",
   "execution_count": null,
   "id": "cdc8487f-e42c-4605-a8f8-26cd6f517c3d",
   "metadata": {},
   "outputs": [],
   "source": [
    "from jupyterquiz import display_quiz\n",
    "display_quiz(\"Chapter1_Quizes.json\")"
   ]
  }
 ],
 "metadata": {},
 "nbformat": 4,
 "nbformat_minor": 5
}
